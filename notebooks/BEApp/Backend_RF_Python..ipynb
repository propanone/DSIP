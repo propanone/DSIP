﻿{
  "metadata": {
    "name": "Backend_RF_Python",
    "kernelspec": {
      "language": "scala",
      "name": "spark2-scala"
    },
    "language_info": {
      "codemirror_mode": "text/x-scala",
      "file_extension": ".scala",
      "mimetype": "text/x-scala",
      "name": "scala",
      "pygments_lexer": "scala"
    }
  },
  "nbformat": 4,
  "nbformat_minor": 2,
  "cells": [
    {
      "cell_type": "code",
      "execution_count": 0,
      "metadata": {
        "autoscroll": "auto"
      },
      "outputs": [],
      "source": "%python\r\nimport pandas as pd\r\nimport sklearn\r\nfrom sklearn.model_selection import train_test_split\r\nfrom sklearn.ensemble import RandomForestClassifier\r\nfrom sklearn.metrics import f1_score, precision_score, recall_score\r\nprint(pd.__version__)\r\nprint(sklearn.__version__)\r\n"
    },
    {
      "cell_type": "code",
      "execution_count": 1,
      "metadata": {
        "autoscroll": "auto"
      },
      "outputs": [],
      "source": "%python\n# Load the file specifying tab as the delimiter\ndata \u003d pd.read_csv(\"file:///team5/data/LabeledFile.csv\", delimiter\u003d\"\\t\")\n\n# Display the first few rows of the dataset\nprint(data.head())\n\n"
    },
    {
      "cell_type": "code",
      "execution_count": 2,
      "metadata": {
        "autoscroll": "auto"
      },
      "outputs": [],
      "source": "%python\n# Identify categorical columns\ncategorical_cols \u003d [\u0027N_OBJET_ASS\u0027, \u0027marque\u0027, \u0027carrosserie\u0027, \u0027energie\u0027, \u0027usage\u0027, \u0027gouvernorat\u0027, \n                    \u0027activite\u0027, \u0027delegation\u0027, \u0027civilite\u0027, \u0027sexe\u0027, \u0027centre\u0027, \u0027direction_regionale\u0027, \n                    \u0027type_vehicule\u0027, \u0027Type_renouvellement_police\u0027, \u0027fractionnement\u0027, \n                    \u0027nombre_fractions\u0027, \u0027IsToutRisque\u0027]\n\n# Convert categorical columns to \u0027category\u0027 dtype\ndata[categorical_cols] \u003d data[categorical_cols].astype(\u0027category\u0027)\n\n# Encode categorical columns with category codes\nfor col in categorical_cols:\n    data[col] \u003d data[col].cat.codes\n    \n# Handle missing and infinite values\ndata.replace([np.inf, -np.inf], np.nan, inplace\u003dTrue)\ndata.fillna(-1, inplace\u003dTrue)  # Replace NaN with -1"
    },
    {
      "cell_type": "code",
      "execution_count": 3,
      "metadata": {
        "autoscroll": "auto"
      },
      "outputs": [],
      "source": "%python\n\nX \u003d data.iloc[:, :-1].values \nY \u003d data.iloc[:,  -1].values \n# Check for missing values and handle them if necessary\nprint(data.isnull().sum())  # Replace with appropriate imputation if needed\n"
    },
    {
      "cell_type": "code",
      "execution_count": 4,
      "metadata": {
        "autoscroll": "auto"
      },
      "outputs": [],
      "source": "%python\n# Split into 80% training and 20% testing\nX_train, X_test, Y_train, Y_test \u003d train_test_split(X, Y, test_size\u003d0.2, random_state\u003d42, stratify\u003dY) \n\n\nX_train.shape, X_test.shape"
    },
    {
      "cell_type": "code",
      "execution_count": 5,
      "metadata": {
        "autoscroll": "auto"
      },
      "outputs": [],
      "source": "%python\n# Initialize the Random Forest model\nrf_model \u003d RandomForestClassifier(n_estimators\u003d100, random_state\u003d42)\n\n# Train the model\nrf_model.fit(X_train, Y_train)\n"
    },
    {
      "cell_type": "code",
      "execution_count": 6,
      "metadata": {
        "autoscroll": "auto"
      },
      "outputs": [],
      "source": "%python\n# Make predictions on the test data\nY_pred \u003d rf_model.predict(X_test)\n"
    },
    {
      "cell_type": "code",
      "execution_count": 7,
      "metadata": {
        "autoscroll": "auto"
      },
      "outputs": [],
      "source": "%python\n# Calculate F1 Score, Precision, and Recall\nf1 \u003d f1_score(Y_test, Y_pred, average\u003d\"weighted\")\nprecision \u003d precision_score(Y_test, Y_pred, average\u003d\"weighted\")\nrecall \u003d recall_score(Y_test, Y_pred, average\u003d\"weighted\")\n\n# Print metrics\nprint(f\"F1 Score: {f1}\")\nprint(f\"Precision: {precision}\")\nprint(f\"Recall: {recall}\")\n"
    },
    {
      "cell_type": "raw",
      "metadata": {
        "format": "text/plain"
      },
      "source": "%python\n"
    }
  ]
}
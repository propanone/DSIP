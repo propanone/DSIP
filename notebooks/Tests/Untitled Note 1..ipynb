﻿{
  "metadata": {
    "name": "Untitled Note 1",
    "kernelspec": {
      "language": "scala",
      "name": "spark2-scala"
    },
    "language_info": {
      "codemirror_mode": "text/x-scala",
      "file_extension": ".scala",
      "mimetype": "text/x-scala",
      "name": "scala",
      "pygments_lexer": "scala"
    }
  },
  "nbformat": 4,
  "nbformat_minor": 2,
  "cells": [
    {
      "cell_type": "code",
      "execution_count": 0,
      "metadata": {
        "autoscroll": "auto"
      },
      "outputs": [],
      "source": "%sh\nls /team5/data/\n"
    },
    {
      "cell_type": "code",
      "execution_count": 1,
      "metadata": {
        "autoscroll": "auto"
      },
      "outputs": [],
      "source": "%sh\nls /team5/data"
    },
    {
      "cell_type": "code",
      "execution_count": 2,
      "metadata": {
        "autoscroll": "auto"
      },
      "outputs": [],
      "source": "%sh\nls /team5/data/models\n\n\n\n"
    },
    {
      "cell_type": "code",
      "execution_count": 3,
      "metadata": {
        "autoscroll": "auto"
      },
      "outputs": [],
      "source": "%python\r\nimport pandas as pd\r\nimport numpy as np\r\nimport matplotlib.pyplot as plt\r\nimport seaborn as sns\r\nfrom scipy import stats\r\nimport pandasql as ps\r\nimport sqlite3\r\n\r\n\r\ndf \u003d pd.read_csv(\u0027/team5/data/LabeledFile.csv\u0027, delimiter\u003d\u0027\\t\u0027, low_memory\u003dFalse)  "
    },
    {
      "cell_type": "code",
      "execution_count": 4,
      "metadata": {
        "autoscroll": "auto"
      },
      "outputs": [],
      "source": "%python\n# Basic Dataset Information\nprint(\" DATASET OVERVIEW\")\nprint(f\"Total Rows: {len(df)}\")\nprint(f\"Total Columns: {len(df.columns)}\")\nprint(\"\\nColumn Names:\")\nprint(\", \".join(df.columns))\n"
    },
    {
      "cell_type": "code",
      "execution_count": 5,
      "metadata": {
        "autoscroll": "auto"
      },
      "outputs": [],
      "source": "%python\n#  Duplicate Analysis\nduplicates \u003d df.duplicated()\nprint(\"\\n DUPLICATE RECORDS\")\nprint(f\"Total Duplicate Rows: {duplicates.sum()}\")\nif duplicates.sum() \u003e 0:\n    print(\"\\nDuplicate Rows Sample:\")\n    print(df[duplicates].head())\n\n"
    },
    {
      "cell_type": "code",
      "execution_count": 6,
      "metadata": {
        "autoscroll": "auto"
      },
      "outputs": [],
      "source": "%python\nprint(f\"Initial Rows: {df.shape[0]}\")\ndf \u003d df.drop_duplicates()\nprint(f\"Rows After Removing Duplicates: {df.shape}\")"
    },
    {
      "cell_type": "code",
      "execution_count": 7,
      "metadata": {
        "autoscroll": "auto"
      },
      "outputs": [],
      "source": "%python\nduplicates \u003d df.duplicated(subset\u003d[\u0027N_SOUSCRIP\u0027])\nnum_duplicates \u003d duplicates.sum()\nprint(num_duplicates)"
    },
    {
      "cell_type": "code",
      "execution_count": 8,
      "metadata": {
        "autoscroll": "auto"
      },
      "outputs": [],
      "source": "%python\nduplicates \u003d df.duplicated(subset\u003d[\u0027N_SOUSCRIP\u0027, \u0027year\u0027,\u0027N_OBJET_ASS\u0027])\nnum_duplicates \u003d duplicates.sum()\nprint(num_duplicates)"
    },
    {
      "cell_type": "code",
      "execution_count": 9,
      "metadata": {
        "autoscroll": "auto"
      },
      "outputs": [],
      "source": "%python\ndf \u003d df.sort_values(by\u003d[\u0027N_SOUSCRIP\u0027, \u0027year\u0027, \u0027Risky\u0027], ascending\u003d[True, True, False])\ndf \u003d df.drop_duplicates(subset\u003d[\u0027N_SOUSCRIP\u0027], keep\u003d\u0027first\u0027)"
    },
    {
      "cell_type": "code",
      "execution_count": 10,
      "metadata": {
        "autoscroll": "auto"
      },
      "outputs": [],
      "source": "%python\nduplicates \u003d df.duplicated(subset\u003d[\u0027N_SOUSCRIP\u0027])\nnum_duplicates \u003d duplicates.sum()\nprint(num_duplicates)"
    },
    {
      "cell_type": "code",
      "execution_count": 11,
      "metadata": {
        "autoscroll": "auto"
      },
      "outputs": [],
      "source": "%python\n\nunique_count \u003d df[\u0027N_SOUSCRIP\u0027].nunique()\nprint(unique_count)\n#51786 client"
    },
    {
      "cell_type": "code",
      "execution_count": 12,
      "metadata": {
        "autoscroll": "auto"
      },
      "outputs": [],
      "source": "%python\r\n#N_SOUSCRIP, N_POLICE, N_OBJET_ASS, year, Prime, Sinistre, marque, puissance, carrosserie, energie, age_objet_assuree, valeur_venale, valeur_neuve, Charge_utile, usage, place, gouvernorat, anciennete, activite, classe, delegation, age_client, civilite, sexe, centre, direction_regionale, type_vehicule, Type_renouvellement_police, fractionnement, nombre_fractions, IsToutRisque, Risky\r\n\r\n#\r\n# List of columns to exclude\r\nexcluded_columns \u003d [\u0027N_SOUSCRIP\u0027, \u0027N_POLICE\u0027,\u0027N_OBJET_ASS\u0027,\u0027year\u0027,\u0027Prime\u0027,\u0027Sinistre\u0027,\u0027Type_renouvellement_police\u0027,\u0027fractionnement\u0027,\u0027nombre_fractions\u0027,\u0027IsToutRisque\u0027,\u0027type_vehicule\u0027,\u0027centre\u0027,\u0027direction_regionale\u0027]\r\n\r\nfor column in df.columns:\r\n    if column not in excluded_columns:\r\n        print(f\"Column: {column}\")\r\n        print(df[column].value_counts())\r\n        print(\"\\n\")\r\n\r\n"
    },
    {
      "cell_type": "code",
      "execution_count": 13,
      "metadata": {
        "autoscroll": "auto"
      },
      "outputs": [],
      "source": "%python\ndf.shape"
    },
    {
      "cell_type": "code",
      "execution_count": 14,
      "metadata": {
        "autoscroll": "auto"
      },
      "outputs": [],
      "source": "%python\n# Missing Value Analysis\n\nmissing_values \u003d df.isnull().sum()\nmissing_percentages \u003d 100 * df.isnull().sum() / len(df)\nmissing_table \u003d pd.concat([missing_values, missing_percentages], axis\u003d1, keys\u003d[\u0027Missing Values\u0027, \u0027Percentage Missing\u0027])\n\nprint(\"\\n3. MISSING VALUES\")\nmissing_data \u003d missing_table[missing_table[\u0027Missing Values\u0027] \u003e 0]\nif len(missing_data) \u003e 0:\n    print(missing_data)\nelse:\n    print(\"No missing values found.\")\n\n# carroserie 58.042996 % of missing values, highly doubt it will be of much use\n\n"
    },
    {
      "cell_type": "code",
      "execution_count": 15,
      "metadata": {
        "autoscroll": "auto"
      },
      "outputs": [],
      "source": "%"
    },
    {
      "cell_type": "code",
      "execution_count": 16,
      "metadata": {
        "autoscroll": "auto"
      },
      "outputs": [],
      "source": "%python \ndf.head(1)"
    },
    {
      "cell_type": "raw",
      "metadata": {
        "format": "text/plain"
      },
      "source": "%python\n"
    },
    {
      "cell_type": "code",
      "execution_count": 18,
      "metadata": {
        "autoscroll": "auto"
      },
      "outputs": [],
      "source": "%python\r\n\r\ncolumns \u003d [\"N_SOUSCRIP\", \"marque\", \"puissance\", \"carrosserie\", \"energie\", \r\n           \"age_objet_assuree\", \"valeur_venale\", \"valeur_neuve\", \"Charge_utile\",\r\n           \"usage\", \"place\", \"gouvernorat\", \"anciennete\", \"activite\", \"classe\",\r\n           \"delegation\", \"age_client\", \"civilite\", \"sexe\", \"centre\", \r\n           \"direction_regionale\", \"type_vehicule\", \"Risky\"]\r\ndf \u003d df[columns] \r\n\r\ndf.rename(columns\u003d{\r\n    \u0027N_SOUSCRIP\u0027: \u0027ID\u0027, \u0027marque\u0027: \u0027MRQ\u0027, \u0027puissance\u0027: \u0027PSS\u0027, \u0027carrosserie\u0027: \u0027CRS\u0027,\r\n    \u0027energie\u0027: \u0027EN\u0027, \u0027age_objet_assuree\u0027: \u0027AGO\u0027, \u0027valeur_venale\u0027: \u0027VV\u0027, \r\n    \u0027valeur_neuve\u0027: \u0027VN\u0027, \u0027Charge_utile\u0027: \u0027CU\u0027, \u0027usage\u0027: \u0027USG\u0027, \u0027place\u0027: \u0027PLA\u0027,\r\n    \u0027gouvernorat\u0027: \u0027GOV\u0027, \u0027anciennete\u0027: \u0027ANC\u0027, \u0027activite\u0027: \u0027ACT\u0027, \u0027classe\u0027: \u0027CLASSE\u0027, \r\n    \u0027delegation\u0027: \u0027DEL\u0027, \u0027age_client\u0027: \u0027AGE\u0027, \u0027civilite\u0027: \u0027CI\u0027, \u0027sexe\u0027: \u0027SEXE\u0027, \r\n    \u0027centre\u0027: \u0027CE\u0027, \u0027direction_regionale\u0027: \u0027DR\u0027, \u0027type_vehicule\u0027: \u0027TV\u0027, \r\n    \u0027Risky\u0027: \u0027RISKY\u0027}, inplace\u003dTrue)\r\n    \r\nfor col in df.select_dtypes(include\u003d\u0027float\u0027).columns:\r\n    df[col] \u003d df[col].astype(\u0027Int64\u0027)\r\n\r\nformatted_data \u003d [\r\n    \",\".join([f\"{col}:{row[col]}\" for col in df.columns if pd.notna(row[col])]) \r\n    for _, row in df.iterrows()\r\n]\r\n\r\noutput_file \u003d \"/team5/data/formatted_data.csv\"\r\nwith open(output_file, \"w\") as f:\r\n    f.write(\"\\n\".join(formatted_data))\r\n"
    },
    {
      "cell_type": "code",
      "execution_count": 19,
      "metadata": {
        "autoscroll": "auto"
      },
      "outputs": [],
      "source": "%sh\nmv /team5/data/formatted_data.csv /team5/data/out.dot"
    },
    {
      "cell_type": "code",
      "execution_count": 20,
      "metadata": {
        "autoscroll": "auto"
      },
      "outputs": [],
      "source": "%sh\nls /team5/data/"
    },
    {
      "cell_type": "code",
      "execution_count": 21,
      "metadata": {
        "autoscroll": "auto"
      },
      "outputs": [],
      "source": "%python\ndf0 \u003d pd.read_csv(\u0027/team5/data/formatted_data.csv\u0027, delimiter\u003d\u0027\\t\u0027, low_memory\u003dFalse)  "
    },
    {
      "cell_type": "code",
      "execution_count": 22,
      "metadata": {
        "autoscroll": "auto"
      },
      "outputs": [],
      "source": "%python\ndf.shape\n# 126232"
    },
    {
      "cell_type": "code",
      "execution_count": 23,
      "metadata": {
        "autoscroll": "auto"
      },
      "outputs": [],
      "source": "%python\nunique_count \u003d df[\u0027caroserie\u0027].nunique()\nprint(unique_count)\n# 51786 Total Clients"
    },
    {
      "cell_type": "code",
      "execution_count": 24,
      "metadata": {
        "autoscroll": "auto"
      },
      "outputs": [],
      "source": "%python\nprint(126232 - 51786)\n# 74446 "
    },
    {
      "cell_type": "code",
      "execution_count": 25,
      "metadata": {
        "autoscroll": "auto"
      },
      "outputs": [],
      "source": "%python\nduplicates \u003d df.duplicated(subset\u003d[\u0027ID\u0027])\nnum_duplicates \u003d duplicates.sum()\nprint(num_duplicates)\n# 74446"
    },
    {
      "cell_type": "code",
      "execution_count": 26,
      "metadata": {
        "autoscroll": "auto"
      },
      "outputs": [],
      "source": "%sh\nls /team5/data\n"
    },
    {
      "cell_type": "code",
      "execution_count": 27,
      "metadata": {
        "autoscroll": "auto"
      },
      "outputs": [],
      "source": "%sh\nhead /team5/data/out.dot | grep TV"
    },
    {
      "cell_type": "raw",
      "metadata": {
        "format": "text/plain"
      },
      "source": "%sh\n"
    }
  ]
}
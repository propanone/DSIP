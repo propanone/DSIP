﻿{
  "metadata": {
    "name": "polarity_test",
    "kernelspec": {
      "language": "scala",
      "name": "spark2-scala"
    },
    "language_info": {
      "codemirror_mode": "text/x-scala",
      "file_extension": ".scala",
      "mimetype": "text/x-scala",
      "name": "scala",
      "pygments_lexer": "scala"
    }
  },
  "nbformat": 4,
  "nbformat_minor": 2,
  "cells": [
    {
      "cell_type": "code",
      "execution_count": 0,
      "metadata": {
        "autoscroll": "auto"
      },
      "outputs": [],
      "source": "%python\r\nimport pandas as pd\r\nimport numpy as np\r\nimport matplotlib.pyplot as plt\r\nimport seaborn as sns\r\nfrom scipy import stats\r\nimport pandasql as ps\r\nimport sqlite3\r\n\r\n\r\ndf \u003d pd.read_csv(\u0027/team5/data/LabeledFile.csv\u0027, delimiter\u003d\u0027\\t\u0027, low_memory\u003dFalse)  "
    },
    {
      "cell_type": "code",
      "execution_count": 1,
      "metadata": {
        "autoscroll": "auto"
      },
      "outputs": [],
      "source": "%python\ndf.head(1)"
    },
    {
      "cell_type": "raw",
      "metadata": {
        "format": "text/plain"
      },
      "source": "%python\n"
    },
    {
      "cell_type": "code",
      "execution_count": 3,
      "metadata": {
        "autoscroll": "auto"
      },
      "outputs": [],
      "source": "%python\nunique_count \u003d df[\u0027N_SOUSCRIP\u0027].nunique()\nunique_values \u003d df[\u0027N_SOUSCRIP\u0027].unique()\n\nprint(unique_count)\n"
    },
    {
      "cell_type": "code",
      "execution_count": 4,
      "metadata": {
        "autoscroll": "auto"
      },
      "outputs": [],
      "source": "%python\ndf_n \u003d df.drop_duplicates(subset\u003d\u0027N_SOUSCRIP\u0027)\npercentage_distribution \u003d df_n[\u0027Risky\u0027].value_counts(normalize\u003dTrue) * 100\n\nprint(percentage_distribution)\n"
    },
    {
      "cell_type": "code",
      "execution_count": 5,
      "metadata": {
        "autoscroll": "auto"
      },
      "outputs": [],
      "source": "%python\ndf0 \u003d df_n[(df_n[\u0027Sinistre\u0027] \u003d\u003d 0) \u0026 (df_n[\u0027IsToutRisque\u0027] \u003d\u003d \u0027Yes\u0027)] \n"
    },
    {
      "cell_type": "code",
      "execution_count": 6,
      "metadata": {
        "autoscroll": "auto"
      },
      "outputs": [],
      "source": "%python\n\ndf[\u0027Risky\u0027].value_counts(normalize\u003dTrue) * 100\n\n"
    },
    {
      "cell_type": "code",
      "execution_count": 7,
      "metadata": {
        "autoscroll": "auto"
      },
      "outputs": [],
      "source": "%python\ndf0.shape"
    },
    {
      "cell_type": "code",
      "execution_count": 8,
      "metadata": {
        "autoscroll": "auto"
      },
      "outputs": [],
      "source": "%python\ndf1 \u003d df_n[df_n[\u0027Sinistre\u0027] \u003e 0]\n"
    },
    {
      "cell_type": "code",
      "execution_count": 9,
      "metadata": {
        "autoscroll": "auto"
      },
      "outputs": [],
      "source": "%python\nprint (df_n.shape,df0.shape,df1.shape)\n# 5178 \u003d\u003d RISKY\n# 46608 \u003d\u003d NON RISKY\n# TOTAL 51786 CLIENTS\n# (51786, 32) (46608, 32) (5178, 32)\n\n"
    },
    {
      "cell_type": "code",
      "execution_count": 10,
      "metadata": {
        "autoscroll": "auto"
      },
      "outputs": [],
      "source": "%python\nprint(6732+119500)"
    },
    {
      "cell_type": "code",
      "execution_count": 11,
      "metadata": {
        "autoscroll": "auto"
      },
      "outputs": [],
      "source": "%sh\ncd /team5/data/models\n\n\nls"
    },
    {
      "cell_type": "code",
      "execution_count": 12,
      "metadata": {
        "autoscroll": "auto"
      },
      "outputs": [],
      "source": "%sh\npython -m http.server 8089"
    },
    {
      "cell_type": "raw",
      "metadata": {
        "format": "text/plain"
      },
      "source": "%sh\n"
    }
  ]
}
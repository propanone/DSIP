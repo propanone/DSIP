﻿{
  "metadata": {
    "name": "EDA_SFN_Archive",
    "kernelspec": {
      "language": "scala",
      "name": "spark2-scala"
    },
    "language_info": {
      "codemirror_mode": "text/x-scala",
      "file_extension": ".scala",
      "mimetype": "text/x-scala",
      "name": "scala",
      "pygments_lexer": "scala"
    }
  },
  "nbformat": 4,
  "nbformat_minor": 2,
  "cells": [
    {
      "cell_type": "code",
      "execution_count": 0,
      "metadata": {
        "autoscroll": "auto"
      },
      "outputs": [],
      "source": "%file\r\n\r\nls /user/majesteye/DS05_INSURANCE_DATASET/input"
    },
    {
      "cell_type": "code",
      "execution_count": 1,
      "metadata": {
        "autoscroll": "auto"
      },
      "outputs": [],
      "source": "%spark\nsc.hadoopConfiguration.set(\"fs.defaultFS\", \"hdfs://namenode:9000\")\n"
    },
    {
      "cell_type": "code",
      "execution_count": 2,
      "metadata": {
        "autoscroll": "auto"
      },
      "outputs": [],
      "source": "val fdf \u003d spark.read\n    .format(\"csv\") \n    .option(\"header\", \"true\")\n    .option(\"inferSchema\", \"true\")\n    .option(\"delimiter\", \"\\t\") // Délimiteur tab pour .tsv\n    .load(\"/user/majesteye/DS05_INSURANCE_DATASET/input/flatFile.csv\")\n  //  .distinct\n    \n// fdf.createOrReplaceTempView(\"FLAT\")"
    },
    {
      "cell_type": "code",
      "execution_count": 3,
      "metadata": {
        "autoscroll": "auto"
      },
      "outputs": [],
      "source": "fdf.count()"
    },
    {
      "cell_type": "code",
      "execution_count": 4,
      "metadata": {
        "autoscroll": "auto"
      },
      "outputs": [],
      "source": "fdf.show(20)"
    },
    {
      "cell_type": "code",
      "execution_count": 5,
      "metadata": {
        "autoscroll": "auto"
      },
      "outputs": [],
      "source": "fdf.printSchema()"
    },
    {
      "cell_type": "code",
      "execution_count": 6,
      "metadata": {
        "autoscroll": "auto"
      },
      "outputs": [],
      "source": "fdf.columns.foreach { column \u003d\u003e\r\n  val distinctCount \u003d fdf.select(column).distinct().count()\r\n  println(s\"Distinct Count for $column: $distinctCount\")\r\n}"
    },
    {
      "cell_type": "code",
      "execution_count": 7,
      "metadata": {
        "autoscroll": "auto"
      },
      "outputs": [],
      "source": "println(s\"Row count: ${fdf.count()}\")\nprintln(s\"Column count: ${fdf.columns.length}\")\nprintln(s\"Distinct N_SOUSCRIP count: ${fdf.select(\"N_SOUSCRIP\").distinct().count()}\")\nprintln(s\"Distinct N_POLICE count: ${fdf.select(\"N_POLICE\").distinct().count()}\")\nprintln(s\"Distinct N_OBJET_ASS count: ${fdf.select(\"N_OBJET_ASS\").distinct().count()}\")"
    },
    {
      "cell_type": "code",
      "execution_count": 8,
      "metadata": {
        "autoscroll": "auto"
      },
      "outputs": [],
      "source": "fdf.createOrReplaceTempView(\"FLAT\")"
    },
    {
      "cell_type": "code",
      "execution_count": 9,
      "metadata": {
        "autoscroll": "auto"
      },
      "outputs": [],
      "source": "%sql\nselect *\nfrom FLAT\nlimit 10"
    },
    {
      "cell_type": "code",
      "execution_count": 10,
      "metadata": {
        "autoscroll": "auto"
      },
      "outputs": [],
      "source": "%spark\n"
    },
    {
      "cell_type": "code",
      "execution_count": 11,
      "metadata": {
        "autoscroll": "auto"
      },
      "outputs": [],
      "source": "%spark\n"
    },
    {
      "cell_type": "code",
      "execution_count": 12,
      "metadata": {
        "autoscroll": "auto"
      },
      "outputs": [],
      "source": "%spark\n"
    },
    {
      "cell_type": "code",
      "execution_count": 13,
      "metadata": {
        "autoscroll": "auto"
      },
      "outputs": [],
      "source": "%spark\n"
    },
    {
      "cell_type": "code",
      "execution_count": 14,
      "metadata": {
        "autoscroll": "auto"
      },
      "outputs": [],
      "source": "%spark\n"
    },
    {
      "cell_type": "code",
      "execution_count": 15,
      "metadata": {
        "autoscroll": "auto"
      },
      "outputs": [],
      "source": "%spark\n"
    },
    {
      "cell_type": "code",
      "execution_count": 16,
      "metadata": {
        "autoscroll": "auto"
      },
      "outputs": [],
      "source": "%spark\n"
    },
    {
      "cell_type": "code",
      "execution_count": 17,
      "metadata": {
        "autoscroll": "auto"
      },
      "outputs": [],
      "source": "%spark\n"
    },
    {
      "cell_type": "code",
      "execution_count": 18,
      "metadata": {
        "autoscroll": "auto"
      },
      "outputs": [],
      "source": "val clientFeaturesDF \u003d spark.read\n    .format(\"csv\") // Pour TSV, utilisez toujours le format \"csv\"\n    .option(\"header\", \"true\")\n    .option(\"inferSchema\", \"true\")\n    .option(\"delimiter\", \"\\t\") // Délimiteur tab pour .tsv\n    .load(\"/user/majesteye/DS05_INSURANCE_DATASET/input/client_features.tsv\")\n"
    },
    {
      "cell_type": "code",
      "execution_count": 19,
      "metadata": {
        "autoscroll": "auto"
      },
      "outputs": [],
      "source": "\nval clientsPolicesDF \u003d spark.read\n    .format(\"csv\")\n    .option(\"header\", \"true\")\n    .option(\"inferSchema\", \"true\")\n    .option(\"delimiter\", \"\\t\") // Délimiteur tab pour .tsv\n    .load(\"/user/majesteye/DS05_INSURANCE_DATASET/input/clients_polices.tsv\")"
    },
    {
      "cell_type": "code",
      "execution_count": 20,
      "metadata": {
        "autoscroll": "auto"
      },
      "outputs": [],
      "source": "val clientsSinistreDF \u003d spark.read\n    .format(\"csv\")\n    .option(\"header\", \"true\")\n    .option(\"inferSchema\", \"true\")\n    .option(\"delimiter\", \"\\t\") // Délimiteur tab pour .tsv\n    .load(\"/user/majesteye/DS05_INSURANCE_DATASET/input/clients_sinistre.tsv\")"
    },
    {
      "cell_type": "code",
      "execution_count": 21,
      "metadata": {
        "autoscroll": "auto"
      },
      "outputs": [],
      "source": "val objectFeaturesDF \u003d spark.read\n    .format(\"csv\")\n    .option(\"header\", \"true\")\n    .option(\"inferSchema\", \"true\")\n    .option(\"delimiter\", \"\\t\") // Délimiteur tab pour .tsv\n    .load(\"/user/majesteye/DS05_INSURANCE_DATASET/input/object_features.tsv\")"
    },
    {
      "cell_type": "code",
      "execution_count": 22,
      "metadata": {
        "autoscroll": "auto"
      },
      "outputs": [],
      "source": "val fdf \u003d spark.read\n    .format(\"csv\") // Pour TSV, utilisez toujours le format \"csv\"\n    .option(\"header\", \"true\")\n    .option(\"inferSchema\", \"true\")\n    .option(\"delimiter\", \"\\t\") // Délimiteur tab pour .tsv\n    .load(\"/user/majesteye/DS05_INSURANCE_DATASET/input/flatFile.csv\")\n  //  .distinct\n    \nfdf.createOrReplaceTempView(\"FLAT\")"
    },
    {
      "cell_type": "code",
      "execution_count": 23,
      "metadata": {
        "autoscroll": "auto"
      },
      "outputs": [],
      "source": "fdf.count()"
    },
    {
      "cell_type": "code",
      "execution_count": 24,
      "metadata": {
        "autoscroll": "auto"
      },
      "outputs": [],
      "source": "fdf.distinct.count()"
    },
    {
      "cell_type": "code",
      "execution_count": 25,
      "metadata": {
        "autoscroll": "auto"
      },
      "outputs": [],
      "source": "// Group by all columns and count the occurrences\nval duplicateRows \u003d fdf.groupBy(fdf.columns.map(col): _*)\n                        .count()\n                        .filter(\"count \u003e 1\") \n\nduplicateRows.show(5)"
    },
    {
      "cell_type": "code",
      "execution_count": 26,
      "metadata": {
        "autoscroll": "auto"
      },
      "outputs": [],
      "source": "%sql\nselect *\nfrom FLAT\nlimit 10"
    },
    {
      "cell_type": "code",
      "execution_count": 27,
      "metadata": {
        "autoscroll": "auto"
      },
      "outputs": [],
      "source": "fdf.show(10)"
    },
    {
      "cell_type": "code",
      "execution_count": 28,
      "metadata": {
        "autoscroll": "auto"
      },
      "outputs": [],
      "source": "%spark\nval mergedDF \u003d clientFeaturesDF\n    .join(clientsPolicesDF, Seq(\"N_SOUSCRIP\", \"year\"), \"inner\")\n    .join(clientsSinistreDF, Seq(\"N_SOUSCRIP\", \"year\"), \"inner\")\n    .join(objectFeaturesDF, Seq(\"N_SOUSCRIP\", \"year\"), \"inner\")\n\n// Show the merged DataFrame\nmergedDF.show(5)"
    },
    {
      "cell_type": "code",
      "execution_count": 29,
      "metadata": {
        "autoscroll": "auto"
      },
      "outputs": [],
      "source": "// Join clientsPolicesDF and objectFeaturesDF on N_SOUSCRIP, year, N_POLICE, N_OBJET_ASS\r\nval policesAndObjectsDF \u003d clientsPolicesDF\r\n    .join(objectFeaturesDF, Seq(\"N_SOUSCRIP\", \"year\", \"N_OBJET_ASS\"), \"inner\")\r\n"
    },
    {
      "cell_type": "code",
      "execution_count": 30,
      "metadata": {
        "autoscroll": "auto"
      },
      "outputs": [],
      "source": "// Join the result with clientsSinistreDF on N_SOUSCRIP, year, N_POLICE, N_OBJET_ASS\r\nval policesObjectsAndSinistreDF \u003d policesAndObjectsDF\r\n    .join(clientsSinistreDF, Seq(\"N_SOUSCRIP\", \"year\", \"N_POLICE\", \"N_OBJET_ASS\"), \"inner\")\r\n"
    },
    {
      "cell_type": "code",
      "execution_count": 31,
      "metadata": {
        "autoscroll": "auto"
      },
      "outputs": [],
      "source": "// Join the result with clientFeaturesDF on N_SOUSCRIP and year\r\nval finlMergedDF \u003d policesObjectsAndSinistreDF\r\n    .join(clientFeaturesDF, Seq(\"N_SOUSCRIP\", \"year\"), \"inner\")\r\n"
    },
    {
      "cell_type": "code",
      "execution_count": 32,
      "metadata": {
        "autoscroll": "auto"
      },
      "outputs": [],
      "source": "// Select the specific columns you want to keep\r\nval mergedDF \u003d finalMergedDF.select(\r\n    \"N_SOUSCRIP\", \"year\", \r\n    \"Sinistre\", \r\n    \"IsToutRisque\", \r\n    \"age_objet_assuree\", \r\n    \"Type_renouvellement_police\", \r\n    \"classe\", \r\n    \"anciennete\"\r\n)\r\n"
    },
    {
      "cell_type": "code",
      "execution_count": 33,
      "metadata": {
        "autoscroll": "auto"
      },
      "outputs": [],
      "source": "mergedDF.show(2, false)"
    },
    {
      "cell_type": "code",
      "execution_count": 34,
      "metadata": {
        "autoscroll": "auto"
      },
      "outputs": [],
      "source": "// Displaying the Schema of a DataFrame"
    },
    {
      "cell_type": "code",
      "execution_count": 35,
      "metadata": {
        "autoscroll": "auto"
      },
      "outputs": [],
      "source": "clientFeaturesDF.printSchema()\nclientsPolicesDF.printSchema()\nclientsSinistreDF.printSchema()"
    },
    {
      "cell_type": "code",
      "execution_count": 36,
      "metadata": {
        "autoscroll": "auto"
      },
      "outputs": [],
      "source": "// View the first few rows"
    },
    {
      "cell_type": "code",
      "execution_count": 37,
      "metadata": {
        "autoscroll": "auto"
      },
      "outputs": [],
      "source": "clientFeaturesDF.show(100)\n"
    },
    {
      "cell_type": "code",
      "execution_count": 38,
      "metadata": {
        "autoscroll": "auto"
      },
      "outputs": [],
      "source": "clientsPolicesDF.show(100)\n"
    },
    {
      "cell_type": "code",
      "execution_count": 39,
      "metadata": {
        "autoscroll": "auto"
      },
      "outputs": [],
      "source": "clientsSinistreDF.show(100)"
    },
    {
      "cell_type": "code",
      "execution_count": 40,
      "metadata": {
        "autoscroll": "auto"
      },
      "outputs": [],
      "source": "objectFeaturesDF.show(100)"
    },
    {
      "cell_type": "code",
      "execution_count": 41,
      "metadata": {
        "autoscroll": "auto"
      },
      "outputs": [],
      "source": "// Count the number of rows"
    },
    {
      "cell_type": "code",
      "execution_count": 42,
      "metadata": {
        "autoscroll": "auto"
      },
      "outputs": [],
      "source": "clientFeaturesDF.count()"
    },
    {
      "cell_type": "code",
      "execution_count": 43,
      "metadata": {
        "autoscroll": "auto"
      },
      "outputs": [],
      "source": "clientsPolicesDF.count()\n"
    },
    {
      "cell_type": "code",
      "execution_count": 44,
      "metadata": {
        "autoscroll": "auto"
      },
      "outputs": [],
      "source": "clientsSinistreDF.count()"
    },
    {
      "cell_type": "code",
      "execution_count": 45,
      "metadata": {
        "autoscroll": "auto"
      },
      "outputs": [],
      "source": "// Duplicates"
    },
    {
      "cell_type": "code",
      "execution_count": 46,
      "metadata": {
        "autoscroll": "auto"
      },
      "outputs": [],
      "source": "val duplicateCount: Long \u003d clientFeaturesDF\r\n  .groupBy(clientFeaturesDF.columns.map(col): _*) // Group by all columns\r\n  .count() // Count occurrences of each group\r\n  .filter($\"count\" \u003e 1) // Keep only duplicate rows\r\n  .count() // Count the number of duplicate groups\r\n\r\nprintln(s\"Number of duplicate rows: $duplicateCount\")\r\n"
    },
    {
      "cell_type": "code",
      "execution_count": 47,
      "metadata": {
        "autoscroll": "auto"
      },
      "outputs": [],
      "source": "%spark\r\nval duplicateCount: Long \u003d fdf\r\n  .groupBy(fdf.columns.map(col): _*) // Group by all columns\r\n  .count() // Count occurrences of each group\r\n  .filter($\"count\" \u003e 1) // Keep only duplicate rows\r\n  .count() // Count the number of duplicate groups\r\n\r\nprintln(s\"Number of duplicate rows: $duplicateCount\")"
    },
    {
      "cell_type": "code",
      "execution_count": 48,
      "metadata": {
        "autoscroll": "auto"
      },
      "outputs": [],
      "source": "// Finding duplicate\r\nval duplicateRows \u003d clientFeaturesDF\r\n  .groupBy(clientFeaturesDF.columns.map(col): _*) \r\n  .count() \r\n  .filter($\"count\" \u003e 1) "
    },
    {
      "cell_type": "code",
      "execution_count": 49,
      "metadata": {
        "autoscroll": "auto"
      },
      "outputs": [],
      "source": "// Group by all columns and count the occurrences\nval duplicateRows \u003d clientFeaturesDF.groupBy(clientFeaturesDF.columns.map(col): _*)\n                        .count()\n                        .filter(\"count \u003e 1\") \n\nduplicateRows.show()\n\n// as we see this is the code of ranim that excuted ( Last updated by ranim.mehatla at December 05 2024, 1:20:37 PM.) and run withot any isues but now we have a problem with the memory "
    },
    {
      "cell_type": "code",
      "execution_count": 50,
      "metadata": {
        "autoscroll": "auto"
      },
      "outputs": [],
      "source": "duplicateRows.show()"
    },
    {
      "cell_type": "code",
      "execution_count": 51,
      "metadata": {
        "autoscroll": "auto"
      },
      "outputs": [],
      "source": "// Check the distinct values in a column for each DF"
    },
    {
      "cell_type": "code",
      "execution_count": 52,
      "metadata": {
        "autoscroll": "auto"
      },
      "outputs": [],
      "source": "val distinctAgeCount \u003d clientFeaturesDF.select(\"civilite\").distinct().count()"
    },
    {
      "cell_type": "code",
      "execution_count": 53,
      "metadata": {
        "autoscroll": "auto"
      },
      "outputs": [],
      "source": "val distinctRiskyCount \u003d clientFeaturesDF.select(\"Type_renouvellement_police\").distinct().count()"
    },
    {
      "cell_type": "code",
      "execution_count": 54,
      "metadata": {
        "autoscroll": "auto"
      },
      "outputs": [],
      "source": "clientFeaturesDF.columns.foreach { column \u003d\u003e\r\n  val distinctCount \u003d clientFeaturesDF.select(column).distinct().count()\r\n  println(s\"Distinct Count for $column: $distinctCount\")\r\n}"
    },
    {
      "cell_type": "code",
      "execution_count": 55,
      "metadata": {
        "autoscroll": "auto"
      },
      "outputs": [],
      "source": "clientsPolicesDF.columns.foreach { column \u003d\u003e\r\n  val distinctCount \u003d clientsPolicesDF.select(column).distinct().count()\r\n  println(s\"Distinct Count for $column: $distinctCount\")\r\n}"
    },
    {
      "cell_type": "code",
      "execution_count": 56,
      "metadata": {
        "autoscroll": "auto"
      },
      "outputs": [],
      "source": "clientsSinistreDF.columns.foreach { column \u003d\u003e\r\n  val distinctCount \u003d clientsSinistreDF.select(column).distinct().count()\r\n  println(s\"Distinct Count for $column: $distinctCount\")\r\n}"
    },
    {
      "cell_type": "code",
      "execution_count": 57,
      "metadata": {
        "autoscroll": "auto"
      },
      "outputs": [],
      "source": "// Frequency Count\n// Group and aggregate"
    },
    {
      "cell_type": "code",
      "execution_count": 58,
      "metadata": {
        "autoscroll": "auto"
      },
      "outputs": [],
      "source": "clientFeaturesDF.groupBy(\"anciennete\").count().orderBy(desc(\"anciennete\")).show(99)"
    },
    {
      "cell_type": "code",
      "execution_count": 59,
      "metadata": {
        "autoscroll": "auto"
      },
      "outputs": [],
      "source": "// Apply the analysis to all categorical columns (columns with string types)\r\nclientFeaturesDF.schema.fields.filter(_.dataType.simpleString \u003d\u003d \"string\").map(_.name).foreach { column \u003d\u003e\r\n  println(s\"Categorical Analysis for column: $column\")\r\n  clientFeaturesDF.groupBy(column).count().orderBy(desc(\"count\")).show(800)\r\n}\r\n"
    },
    {
      "cell_type": "code",
      "execution_count": 60,
      "metadata": {
        "autoscroll": "auto"
      },
      "outputs": [],
      "source": "// Apply the analysis to all categorical columns (columns with double types)\r\nclientFeaturesDF.schema.fields.filter(_.dataType.simpleString \u003d\u003d \"double\").map(_.name).foreach { column \u003d\u003e \r\n  println(s\"Categorical Analysis for column: $column\")\r\n  clientFeaturesDF.groupBy(column).count().orderBy(desc(\"count\")).show()\r\n}\r\n"
    },
    {
      "cell_type": "code",
      "execution_count": 61,
      "metadata": {
        "autoscroll": "auto"
      },
      "outputs": [],
      "source": "// Apply the analysis to all categorical columns (columns with double types)\r\nclientFeaturesDF.schema.fields.filter(_.dataType.simpleString \u003d\u003d \"int\").map(_.name).foreach { column \u003d\u003e \r\n  println(s\"Categorical Analysis for column: $column\")\r\n  clientFeaturesDF.groupBy(column).count().orderBy(desc(\"count\")).show()\r\n}\r\n"
    },
    {
      "cell_type": "code",
      "execution_count": 62,
      "metadata": {
        "autoscroll": "auto"
      },
      "outputs": [],
      "source": "println(s\"Row count: ${clientFeaturesDF.count()}\")\nprintln(s\"Column count: ${clientFeaturesDF.columns.length}\")\nprintln(s\"Distinct N_SOUSCRIP count: ${clientFeaturesDF.select(\"N_SOUSCRIP\").distinct().count()}\")"
    },
    {
      "cell_type": "code",
      "execution_count": 63,
      "metadata": {
        "autoscroll": "auto"
      },
      "outputs": [],
      "source": "clientFeaturesDF.groupBy(\"N_SOUSCRIP\").count().orderBy(desc(\"count\")).show(10)"
    },
    {
      "cell_type": "code",
      "execution_count": 64,
      "metadata": {
        "autoscroll": "auto"
      },
      "outputs": [],
      "source": "clientFeaturesDF.filter($\"N_SOUSCRIP\" \u003d\u003d\u003d \"106783\").orderBy(desc(\"year\")).show(100)"
    },
    {
      "cell_type": "code",
      "execution_count": 65,
      "metadata": {
        "autoscroll": "auto"
      },
      "outputs": [],
      "source": "fdf.filter($\"N_SOUSCRIP\" \u003d\u003d\u003d \"106783\").orderBy(desc(\"year\")).show(100)"
    },
    {
      "cell_type": "code",
      "execution_count": 66,
      "metadata": {
        "autoscroll": "auto"
      },
      "outputs": [],
      "source": "clientsSinistreDF.groupBy(\"Sinistre\").count().orderBy(asc(\"Sinistre\")).show(10)"
    },
    {
      "cell_type": "code",
      "execution_count": 67,
      "metadata": {
        "autoscroll": "auto"
      },
      "outputs": [],
      "source": "clientsSinistreDF.filter($\"N_SOUSCRIP\" \u003d\u003d\u003d \"657019\" \u0026\u0026 $\"N_OBJET_ASS\" \u003d\u003d\u003d \"8752TU64\").orderBy(desc(\"year\")).show(100)"
    },
    {
      "cell_type": "code",
      "execution_count": 68,
      "metadata": {
        "autoscroll": "auto"
      },
      "outputs": [],
      "source": "clientsPolicesDF.groupBy(\"N_SOUSCRIP\").count().orderBy(desc(\"count\")).show(100)"
    },
    {
      "cell_type": "code",
      "execution_count": 69,
      "metadata": {
        "autoscroll": "auto"
      },
      "outputs": [],
      "source": "clientsPolicesDF.filter($\"N_SOUSCRIP\" \u003d\u003d\u003d \"106783\").orderBy(desc(\"year\")).show(100)"
    },
    {
      "cell_type": "code",
      "execution_count": 70,
      "metadata": {
        "autoscroll": "auto"
      },
      "outputs": [],
      "source": "clientsPolicesDF.groupBy(\"IsToutRisque\").count().orderBy(desc(\"count\")).show()"
    },
    {
      "cell_type": "code",
      "execution_count": 71,
      "metadata": {
        "autoscroll": "auto"
      },
      "outputs": [],
      "source": "objectFeaturesDF.groupBy(\"N_SOUSCRIP\").count().orderBy(desc(\"count\")).show(10)"
    },
    {
      "cell_type": "code",
      "execution_count": 72,
      "metadata": {
        "autoscroll": "auto"
      },
      "outputs": [],
      "source": "objectFeaturesDF.filter($\"N_SOUSCRIP\" \u003d\u003d\u003d \"657019\").orderBy(desc(\"year\")).show(100)"
    },
    {
      "cell_type": "code",
      "execution_count": 73,
      "metadata": {
        "autoscroll": "auto"
      },
      "outputs": [],
      "source": "objectFeaturesDF.groupBy(\"age_objet_assuree\").count().orderBy(asc(\"age_objet_assuree\")).show()"
    },
    {
      "cell_type": "code",
      "execution_count": 74,
      "metadata": {
        "autoscroll": "auto"
      },
      "outputs": [],
      "source": "clientFeaturesDF.groupBy(\"N_SOUSCRIP\").agg(avg(\"age_client\"), max(\"anciennete\")).show(10)"
    },
    {
      "cell_type": "code",
      "execution_count": 75,
      "metadata": {
        "autoscroll": "auto"
      },
      "outputs": [],
      "source": "// Apply the analysis to all categorical columns (columns with string/double/int types)\r\nclientsSinistreDF.schema.fields.map(_.name).foreach { column \u003d\u003e\r\n  println(s\"Categorical Analysis for column: $column\")\r\n  clientsSinistreDF.groupBy(column).count().orderBy(desc(\"count\")).show()\r\n}"
    },
    {
      "cell_type": "code",
      "execution_count": 76,
      "metadata": {
        "autoscroll": "auto"
      },
      "outputs": [],
      "source": "// Compute summary statistics\n// calculate "
    },
    {
      "cell_type": "code",
      "execution_count": 77,
      "metadata": {
        "autoscroll": "auto"
      },
      "outputs": [],
      "source": "val summary \u003d clientFeaturesDF.describe()\r\n// Alternatively, convert to a DataFrame and reorder/format it\r\nval structuredSummary \u003d summary\r\n  .select(\"summary\",\"anciennete\", \"classe\")\r\n  .withColumnRenamed(\"summary\", \"Statistics\")\r\n  .orderBy(\"Statistics\") \r\nstructuredSummary.show(truncate \u003d false)\r\n"
    },
    {
      "cell_type": "code",
      "execution_count": 78,
      "metadata": {
        "autoscroll": "auto"
      },
      "outputs": [],
      "source": "// Specific Statistical Measures (Mean (Average), stddev, variance for \"classe\".)"
    },
    {
      "cell_type": "code",
      "execution_count": 79,
      "metadata": {
        "autoscroll": "auto"
      },
      "outputs": [],
      "source": "import org.apache.spark.sql.functions._\r\n\r\nval stats \u003d clientFeaturesDF.select(\r\n  avg(\"classe\").alias(\"mean_classe\"),\r\n  stddev(\"classe\").alias(\"stddev_classe\"),\r\n  variance(\"classe\").alias(\"variance_classe\"),\r\n  avg(\"anciennete\").alias(\"mean_anciennete\"),\r\n  stddev(\"anciennete\").alias(\"stddev_anciennete\"),\r\n  variance(\"anciennete\").alias(\"variance_anciennete\")\r\n)\r\n\r\nstats.show()\r\n\r\n"
    },
    {
      "cell_type": "code",
      "execution_count": 80,
      "metadata": {
        "autoscroll": "auto"
      },
      "outputs": [],
      "source": "// Additional Analysis with agg()"
    },
    {
      "cell_type": "code",
      "execution_count": 81,
      "metadata": {
        "autoscroll": "auto"
      },
      "outputs": [],
      "source": "clientFeaturesDF.agg(\r\n  avg(\"classe\").alias(\"mean_age\"),\r\n  stddev(\"classe\").alias(\"stddev_age\"),\r\n  min(\"classe\").alias(\"min_age\"),\r\n  max(\"classe\").alias(\"max_age\")\r\n).show()\r\n"
    },
    {
      "cell_type": "code",
      "execution_count": 82,
      "metadata": {
        "autoscroll": "auto"
      },
      "outputs": [],
      "source": "import org.apache.spark.sql.functions._\r\n\r\nval statistics \u003d clientFeaturesDF.select(\r\n  avg(\"classe\").alias(\"mean_age\"),\r\n  stddev(\"classe\").alias(\"stddev_age\"),\r\n  variance(\"classe\").alias(\"variance_age\"),\r\n  min(\"classe\").alias(\"min_age\"),\r\n  max(\"classe\").alias(\"max_age\")\r\n)\r\nstatistics.show()"
    },
    {
      "cell_type": "code",
      "execution_count": 83,
      "metadata": {
        "autoscroll": "auto"
      },
      "outputs": [],
      "source": "// Are there missing values ? How do these missing values affect the analysis?"
    },
    {
      "cell_type": "code",
      "execution_count": 84,
      "metadata": {
        "autoscroll": "auto"
      },
      "outputs": [],
      "source": "// Check for missing values in all columns\r\nclientFeaturesDF.select(clientFeaturesDF.columns.map(c \u003d\u003e sum(when(col(c).isNull, 1).otherwise(0)).alias(c)): _*).show()"
    },
    {
      "cell_type": "code",
      "execution_count": 85,
      "metadata": {
        "autoscroll": "auto"
      },
      "outputs": [],
      "source": "clientsSinistreDF.select(clientsSinistreDF.columns.map(c \u003d\u003e sum(when(col(c).isNull, 1).otherwise(0)).alias(c)): _*).show()"
    },
    {
      "cell_type": "code",
      "execution_count": 86,
      "metadata": {
        "autoscroll": "auto"
      },
      "outputs": [],
      "source": "clientsPolicesDF.select(clientsPolicesDF.columns.map(c \u003d\u003e sum(when(col(c).isNull, 1).otherwise(0)).alias(c)): _*).show()"
    },
    {
      "cell_type": "code",
      "execution_count": 87,
      "metadata": {
        "autoscroll": "auto"
      },
      "outputs": [],
      "source": "objectFeaturesDF.select(objectFeaturesDF.columns.map(c \u003d\u003e sum(when(col(c).isNull, 1).otherwise(0)).alias(c)): _*).show()"
    },
    {
      "cell_type": "code",
      "execution_count": 88,
      "metadata": {
        "autoscroll": "auto"
      },
      "outputs": [],
      "source": "// The distribution of genders\n// Is there any bias in the dataset with respect to gender (classe)??"
    },
    {
      "cell_type": "code",
      "execution_count": 89,
      "metadata": {
        "autoscroll": "auto"
      },
      "outputs": [],
      "source": "// Count the occurrences of each gender\r\nval genderDistribution \u003d clientFeaturesDF.groupBy(\"classe\")\r\n  .agg(count(\"*\").alias(\"count\"))\r\n  .orderBy(desc(\"count\"))\r\n\r\n// Show the result\r\ngenderDistribution.show()\r\n\r\n// Calculate the percentage distribution for each gender\r\nval totalCount \u003d clientFeaturesDF.count()\r\n\r\nval genderPercentage \u003d clientFeaturesDF.groupBy(\"classe\")\r\n  .agg(\r\n    (count(\"*\") / totalCount * 100).alias(\"percentage\")\r\n  )\r\n  .orderBy(desc(\"percentage\"))\r\n\r\n// Show the percentage distribution\r\ngenderPercentage.show()\r\n"
    },
    {
      "cell_type": "code",
      "execution_count": 90,
      "metadata": {
        "autoscroll": "auto"
      },
      "outputs": [],
      "source": "clientFeaturesDF.createOrReplaceTempView(\"dataset\")"
    },
    {
      "cell_type": "code",
      "execution_count": 91,
      "metadata": {
        "autoscroll": "auto"
      },
      "outputs": [],
      "source": "%sql\r\nSELECT \r\n    sexe, \r\n    COUNT(*) AS count,\r\n    (COUNT(*) * 100.0 / (SELECT COUNT(*) FROM dataset)) AS percentage\r\nFROM dataset\r\nGROUP BY sexe\r\n\r\nORDER BY count DESC;\r\n"
    },
    {
      "cell_type": "code",
      "execution_count": 92,
      "metadata": {
        "autoscroll": "auto"
      },
      "outputs": [],
      "source": "// Are there regional biases(C)??\n//"
    },
    {
      "cell_type": "code",
      "execution_count": 93,
      "metadata": {
        "autoscroll": "auto"
      },
      "outputs": [],
      "source": "%sql\r\nSELECT \r\n    gouvernorat, \r\n    COUNT(*) AS count,\r\n    (COUNT(*) * 100.0 / (SELECT COUNT(*) FROM dataset)) AS percentage\r\nFROM dataset\r\nGROUP BY gouvernorat\r\n\r\nORDER BY count DESC;\r\n"
    },
    {
      "cell_type": "code",
      "execution_count": 94,
      "metadata": {
        "autoscroll": "auto"
      },
      "outputs": [],
      "source": "// Relation between anciennete and classe"
    },
    {
      "cell_type": "code",
      "execution_count": 95,
      "metadata": {
        "autoscroll": "auto"
      },
      "outputs": [],
      "source": "%sql\r\nSELECT \r\n    anciennete, \r\n    classe, \r\n    COUNT(*) AS count,\r\n    (COUNT(*) * 100.0 / (SELECT COUNT(*) FROM dataset)) AS percentage\r\nFROM dataset\r\nGROUP BY anciennete, classe\r\nORDER BY count DESC;\r\n"
    },
    {
      "cell_type": "code",
      "execution_count": 96,
      "metadata": {
        "autoscroll": "auto"
      },
      "outputs": [],
      "source": "// Relation between Type_renouvellement_police and classe\n"
    },
    {
      "cell_type": "code",
      "execution_count": 97,
      "metadata": {
        "autoscroll": "auto"
      },
      "outputs": [],
      "source": "%sql\r\nSELECT \r\n    Type_renouvellement_police, \r\n    classe, \r\n    COUNT(*) AS count,\r\n    (COUNT(*) * 100.0 / (SELECT COUNT(*) FROM dataset)) AS percentage\r\nFROM dataset\r\nGROUP BY Type_renouvellement_police, classe\r\nORDER BY count DESC;"
    },
    {
      "cell_type": "code",
      "execution_count": 98,
      "metadata": {
        "autoscroll": "auto"
      },
      "outputs": [],
      "source": "// joining"
    },
    {
      "cell_type": "code",
      "execution_count": 99,
      "metadata": {
        "autoscroll": "auto"
      },
      "outputs": [],
      "source": "// first step: join clientFeaturesDF and clientsPolicesDF"
    },
    {
      "cell_type": "code",
      "execution_count": 100,
      "metadata": {
        "autoscroll": "auto"
      },
      "outputs": [],
      "source": "val joinedDF1 \u003d clientFeaturesDF\r\n    .join(clientsPolicesDF, Seq(\"N_SOUSCRIP\", \"year\"), \"outer\")"
    },
    {
      "cell_type": "code",
      "execution_count": 101,
      "metadata": {
        "autoscroll": "auto"
      },
      "outputs": [],
      "source": "joinedDF1.show(10)"
    },
    {
      "cell_type": "code",
      "execution_count": 102,
      "metadata": {
        "autoscroll": "auto"
      },
      "outputs": [],
      "source": "// Step 2: Join the result with clientsSinistreDF"
    },
    {
      "cell_type": "code",
      "execution_count": 103,
      "metadata": {
        "autoscroll": "auto"
      },
      "outputs": [],
      "source": "val finalDF \u003d joinedDF1\r\n    .join(clientsSinistreDF, Seq(\"N_SOUSCRIP\", \"year\", \"N_POLICE\"), \"outer\")"
    },
    {
      "cell_type": "code",
      "execution_count": 104,
      "metadata": {
        "autoscroll": "auto"
      },
      "outputs": [],
      "source": "finalDF.show(10)"
    }
  ]
}
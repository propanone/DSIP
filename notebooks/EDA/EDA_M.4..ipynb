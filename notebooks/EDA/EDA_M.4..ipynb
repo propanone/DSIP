﻿{
  "metadata": {
    "name": "EDA_M.4",
    "kernelspec": {
      "language": "scala",
      "name": "spark2-scala"
    },
    "language_info": {
      "codemirror_mode": "text/x-scala",
      "file_extension": ".scala",
      "mimetype": "text/x-scala",
      "name": "scala",
      "pygments_lexer": "scala"
    }
  },
  "nbformat": 4,
  "nbformat_minor": 2,
  "cells": [
    {
      "cell_type": "code",
      "execution_count": 0,
      "metadata": {
        "autoscroll": "auto"
      },
      "outputs": [],
      "source": "%sh\nls /team5/data"
    },
    {
      "cell_type": "code",
      "execution_count": 1,
      "metadata": {
        "autoscroll": "auto"
      },
      "outputs": [],
      "source": "%spark\n// Number of cores available for the driver\nprintln(s\"Driver cores: ${sc.defaultParallelism}\")\n\n// Number of executors and their cores\nval executorCores \u003d spark.conf.get(\"spark.executor.cores\", \"1\").toInt\nval numExecutors \u003d spark.conf.get(\"spark.executor.instances\", \"1\").toInt\nprintln(s\"Executors: $numExecutors\")\nprintln(s\"Executor cores: $executorCores\")\nprintln(s\"Total available cores: ${numExecutors * executorCores}\")\n"
    },
    {
      "cell_type": "code",
      "execution_count": 2,
      "metadata": {
        "autoscroll": "auto"
      },
      "outputs": [],
      "source": "%python\r\nimport pandas as pd\r\nimport numpy as np\r\nimport matplotlib.pyplot as plt\r\nimport seaborn as sns\r\nfrom scipy import stats\r\nimport pandasql as ps\r\nimport sqlite3\r\n\r\n\r\ndf \u003d pd.read_csv(\u0027/team5/data/w_df.csv\u0027, delimiter\u003d\u0027,\u0027, low_memory\u003dFalse)  "
    },
    {
      "cell_type": "code",
      "execution_count": 3,
      "metadata": {
        "autoscroll": "auto"
      },
      "outputs": [],
      "source": "%python\nimport os\nimport multiprocessing\n\n# Number of physical cores\nphysical_cores \u003d os.cpu_count() // 2  # Approximation for physical cores\nprint(f\"Number of Physical Cores: {physical_cores}\")\n\n# Total cores (physical + logical with hyperthreading)\ntotal_cores \u003d multiprocessing.cpu_count()\nprint(f\"Number of Logical Cores: {total_cores}\")\n"
    },
    {
      "cell_type": "code",
      "execution_count": 4,
      "metadata": {
        "autoscroll": "auto"
      },
      "outputs": [],
      "source": "%python\nprint(f\"Driver cores: {sc.defaultParallelism}\")\n"
    },
    {
      "cell_type": "code",
      "execution_count": 5,
      "metadata": {
        "autoscroll": "auto"
      },
      "outputs": [],
      "source": "%python\ndf.shape"
    },
    {
      "cell_type": "code",
      "execution_count": 6,
      "metadata": {
        "autoscroll": "auto"
      },
      "outputs": [],
      "source": "# Summary statistics\r\nprint(df[[\u0027Prime\u0027, \u0027Sinistre\u0027]].describe())\r\n\r\n# Plot distributions\r\nplt.figure(figsize\u003d(12, 6))\r\n\r\nplt.subplot(1, 2, 1)\r\nsns.histplot(df[\u0027Prime\u0027], bins\u003d50, kde\u003dTrue, color\u003d\u0027blue\u0027)\r\nplt.title(\u0027Distribution of Prime\u0027)\r\nplt.xlabel(\u0027Prime\u0027)\r\n\r\nplt.subplot(1, 2, 2)\r\nsns.histplot(df[\u0027Sinistre\u0027], bins\u003d50, kde\u003dTrue, color\u003d\u0027green\u0027)\r\nplt.title(\u0027Distribution of Sinistre\u0027)\r\nplt.xlabel(\u0027Sinistre\u0027)\r\n\r\nplt.tight_layout()\r\nplt.show()\r\n"
    },
    {
      "cell_type": "code",
      "execution_count": 7,
      "metadata": {
        "autoscroll": "auto"
      },
      "outputs": [],
      "source": "# Count total rows\r\ntotal_count \u003d df.shape[0]\r\n\r\n# Prime Categories\r\nnegative_prime \u003d (df[\u0027Prime\u0027] \u003c 0).sum()\r\nzero_prime \u003d (df[\u0027Prime\u0027] \u003d\u003d 0).sum()\r\npositive_prime \u003d (df[\u0027Prime\u0027] \u003e 0).sum()\r\n\r\n# Sinistre Categories\r\nzero_sinistre \u003d (df[\u0027Sinistre\u0027] \u003d\u003d 0).sum()\r\nnonzero_sinistre \u003d (df[\u0027Sinistre\u0027] \u003e 0).sum()\r\n\r\n# Calculate percentages\r\nprime_percentages \u003d {\r\n    \u0027Negative Prime\u0027: negative_prime / total_count * 100,\r\n    \u0027Zero Prime\u0027: zero_prime / total_count * 100,\r\n    \u0027Positive Prime\u0027: positive_prime / total_count * 100\r\n}\r\n\r\nsinistre_percentages \u003d {\r\n    \u0027Zero Sinistre\u0027: zero_sinistre / total_count * 100,\r\n    \u0027Non-Zero Sinistre\u0027: nonzero_sinistre / total_count * 100\r\n}\r\n\r\nprint(\"Prime Percentages:\", prime_percentages)\r\nprint(\"Sinistre Percentages:\", sinistre_percentages)\r\n#we can drop the negative and 0 primes(idk the meaning but eh),sinistre wise it looks good"
    },
    {
      "cell_type": "code",
      "execution_count": 8,
      "metadata": {
        "autoscroll": "auto"
      },
      "outputs": [],
      "source": "sum(prime_percentages.values()), sum(sinistre_percentages.values())\r\n"
    },
    {
      "cell_type": "code",
      "execution_count": 9,
      "metadata": {
        "autoscroll": "auto"
      },
      "outputs": [],
      "source": "#dropping \u003c\u003d0 prime\ndf_cleaned \u003d df[df[\u0027Prime\u0027] \u003e 0]\n\n# Check the new shape of the DataFrame\nprint(f\"Original shape: {df.shape}\")\nprint(f\"New shape after dropping negative/zero Prime: {df_cleaned.shape}\")\n\n# Calculate updated percentages\ndropped_percentage \u003d (1 - (df_cleaned.shape[0] / df.shape[0])) * 100\nprint(f\"Percentage of rows dropped: {dropped_percentage:.2f}%\")\n#perc checks out\n#Original shape: (1283819, 30)\n#New shape after dropping negative/zero Prime: (1243222, 30)\n#Percentage of rows dropped: 3.16%"
    },
    {
      "cell_type": "code",
      "execution_count": 10,
      "metadata": {
        "autoscroll": "auto"
      },
      "outputs": [],
      "source": "print(df_cleaned[\u0027Sinistre\u0027].describe())\r\n"
    },
    {
      "cell_type": "code",
      "execution_count": 11,
      "metadata": {
        "autoscroll": "auto"
      },
      "outputs": [],
      "source": "Q1 \u003d df_cleaned[\u0027Sinistre\u0027].quantile(0.25)\r\nQ3 \u003d df_cleaned[\u0027Sinistre\u0027].quantile(0.75)\r\nIQR \u003d Q3 - Q1\r\nlower_bound \u003d Q1 - 1.5 * IQR\r\nupper_bound \u003d Q3 + 1.5 * IQR\r\nprint(f\"Outlier bounds: {lower_bound}, {upper_bound}\")\r\n\r\noutliers \u003d df_cleaned[(df_cleaned[\u0027Sinistre\u0027] \u003c lower_bound) | (df_cleaned[\u0027Sinistre\u0027] \u003e upper_bound)]\r\nprint(f\"Number of outliers in Sinistre: {outliers.shape[0]}\")\r\n#Number of outliers in Sinistre: 69736,in theory I should investigate further to see if the outliers ought to be dropped kept or capped but eh,don\u0027t have enough knowledhe to say if they seem erronous or not so I\u0027ll just bite and say they reflect high \u0026 low risk profiles"
    },
    {
      "cell_type": "code",
      "execution_count": 12,
      "metadata": {
        "autoscroll": "auto"
      },
      "outputs": [],
      "source": "print(outliers.sort_values(by\u003d\u0027Sinistre\u0027, ascending\u003dFalse).head(10))\r\n#just to check a little,from just 10,a good chunk of the high sinistre also goes with a high prime,which might make sense (if my understanding of prime is even correct that is) it shouldnn\u0027t be discretized right?anyways it light indeed reflect high risk ckients\r\n#still,if the data is generated,all of this is meaningless,the model will perform poorly \r\n#can only hope the relationships here make sense\r\n#keep in mind the fract vs n fract and the values that make no sense,to be handled at some other time\r\n"
    },
    {
      "cell_type": "code",
      "execution_count": 13,
      "metadata": {
        "autoscroll": "auto"
      },
      "outputs": [],
      "source": "#reminder:data to be cleaned further"
    },
    {
      "cell_type": "code",
      "execution_count": 14,
      "metadata": {
        "autoscroll": "auto"
      },
      "outputs": [],
      "source": "# Calculate Sinistre / Prime ratio without modifying the original df\r\nsinistre_prime_ratio \u003d df_cleaned[\u0027Sinistre\u0027] / df_cleaned[\u0027Prime\u0027]\r\n\r\n# Basic statistics for Sinistre / Prime ratio\r\nmean_ratio \u003d sinistre_prime_ratio.mean()\r\nmedian_ratio \u003d sinistre_prime_ratio.median()\r\nstd_ratio \u003d sinistre_prime_ratio.std()\r\n\r\nmean_ratio, median_ratio, std_ratio\r\n"
    },
    {
      "cell_type": "code",
      "execution_count": 15,
      "metadata": {
        "autoscroll": "auto"
      },
      "outputs": [],
      "source": "# Calculate the Sinistre/Prime ratio\r\ndf_cleaned[\u0027sinistre_prime_ratio\u0027] \u003d df_cleaned[\u0027Sinistre\u0027] / df_cleaned[\u0027Prime\u0027]\r\n\r\n# Basic statistics for Sinistre / Prime ratio\r\nmean_ratio \u003d df_cleaned[\u0027sinistre_prime_ratio\u0027].mean()\r\nmedian_ratio \u003d df_cleaned[\u0027sinistre_prime_ratio\u0027].median()\r\nstd_ratio \u003d df_cleaned[\u0027sinistre_prime_ratio\u0027].std()\r\n\r\n# Plot the distribution using a boxplot and adding mean and median lines\r\nplt.figure(figsize\u003d(12, 6))\r\n\r\n# Violin plot to show distribution\r\nsns.violinplot(data\u003ddf_cleaned, x\u003d\u0027sinistre_prime_ratio\u0027, color\u003d\u0027purple\u0027, inner\u003dNone)\r\n\r\n# Plot the mean and median lines\r\nplt.axvline(mean_ratio, color\u003d\u0027red\u0027, linestyle\u003d\u0027--\u0027, label\u003df\u0027Mean: {mean_ratio:.2f}\u0027)\r\nplt.axvline(median_ratio, color\u003d\u0027green\u0027, linestyle\u003d\u0027--\u0027, label\u003df\u0027Median: {median_ratio:.2f}\u0027)\r\n\r\n\r\n# Customize plot\r\nplt.title(\u0027Distribution of Sinistre/Prime Ratio\u0027)\r\nplt.xlabel(\u0027Sinistre / Prime\u0027)\r\nplt.ylabel(\u0027Density\u0027)\r\nplt.legend()\r\nplt.grid(True)\r\nplt.show()\r\n\r\n# Show the calculated statistics\r\nmean_ratio, median_ratio, std_ratio\r\n"
    },
    {
      "cell_type": "code",
      "execution_count": 16,
      "metadata": {
        "autoscroll": "auto"
      },
      "outputs": [],
      "source": "# Boxplot for Sinistre / Prime ratio\r\nplt.figure(figsize\u003d(12, 6))\r\nsns.boxplot(x\u003ddf_cleaned[\u0027sinistre_prime_ratio\u0027], color\u003d\u0027purple\u0027)\r\n\r\n# Add the mean and median lines\r\nplt.axvline(mean_ratio, color\u003d\u0027red\u0027, linestyle\u003d\u0027--\u0027, label\u003df\u0027Mean: {mean_ratio:.2f}\u0027)\r\nplt.axvline(median_ratio, color\u003d\u0027green\u0027, linestyle\u003d\u0027--\u0027, label\u003df\u0027Median: {median_ratio:.2f}\u0027)\r\n\r\n# Customize plot\r\nplt.title(\u0027Boxplot of Sinistre/Prime Ratio\u0027)\r\nplt.xlabel(\u0027Sinistre / Prime\u0027)\r\nplt.legend()\r\nplt.grid(True)\r\nplt.show()\r\n"
    },
    {
      "cell_type": "code",
      "execution_count": 17,
      "metadata": {
        "autoscroll": "auto"
      },
      "outputs": [],
      "source": "# Scatter plot of Prime vs Sinistre, colored by the Sinistre/Prime ratio\r\nplt.figure(figsize\u003d(12, 6))\r\nsns.scatterplot(x\u003ddf_cleaned[\u0027Prime\u0027], y\u003ddf_cleaned[\u0027Sinistre\u0027], hue\u003dsinistre_prime_ratio, palette\u003d\u0027coolwarm\u0027)\r\nplt.title(\u0027Prime vs Sinistre (Colored by Sinistre/Prime Ratio)\u0027)\r\nplt.xlabel(\u0027Prime\u0027)\r\nplt.ylabel(\u0027Sinistre\u0027)\r\nplt.show()\r\n"
    }
  ]
}
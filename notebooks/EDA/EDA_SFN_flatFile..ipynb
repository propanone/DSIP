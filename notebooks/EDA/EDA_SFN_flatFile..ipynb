﻿{
  "metadata": {
    "name": "EDA_SFN_flatFile",
    "kernelspec": {
      "language": "scala",
      "name": "spark2-scala"
    },
    "language_info": {
      "codemirror_mode": "text/x-scala",
      "file_extension": ".scala",
      "mimetype": "text/x-scala",
      "name": "scala",
      "pygments_lexer": "scala"
    }
  },
  "nbformat": 4,
  "nbformat_minor": 2,
  "cells": [
    {
      "cell_type": "code",
      "execution_count": 0,
      "metadata": {
        "autoscroll": "auto"
      },
      "outputs": [],
      "source": "%sh\nls /team5/data/"
    },
    {
      "cell_type": "code",
      "execution_count": 1,
      "metadata": {
        "autoscroll": "auto"
      },
      "outputs": [],
      "source": "sc.hadoopConfiguration.set(\"fs.defaultFS\", \"hdfs://namenode:9000\")"
    },
    {
      "cell_type": "code",
      "execution_count": 2,
      "metadata": {
        "autoscroll": "auto"
      },
      "outputs": [],
      "source": "%sh\nls /flatFile.csv"
    },
    {
      "cell_type": "markdown",
      "metadata": {},
      "source": "## **DF :**\n\n- \u003cspan style\u003d\"color:orange;\"\u003e **df \u003d data with duplicate**\u003c/span\u003e  \n- \u003cspan style\u003d\"color:orange;\"\u003e️ **dfwd \u003d data without duplicate**\u003c/span\u003e\n"
    },
    {
      "cell_type": "code",
      "execution_count": 4,
      "metadata": {
        "autoscroll": "auto"
      },
      "outputs": [],
      "source": "val df \u003d spark.read\n              .option(\"header\", \"true\")\n              .options(Map(\"inferSchema\" -\u003e \"true\", \"delimiter\" -\u003e \"\\t\"))\n              .csv(\"file:///team5/data/flatFile.csv\")"
    },
    {
      "cell_type": "code",
      "execution_count": 5,
      "metadata": {
        "autoscroll": "auto"
      },
      "outputs": [],
      "source": "val dfwd \u003d spark.read\n              .option(\"header\", \"true\")\n              .options(Map(\"inferSchema\" -\u003e \"true\", \"delimiter\" -\u003e \"\\t\"))\n              .csv(\"file:///team5/data/flatFile.csv\")\n              .distinct"
    },
    {
      "cell_type": "code",
      "execution_count": 6,
      "metadata": {
        "autoscroll": "auto"
      },
      "outputs": [],
      "source": "df.count"
    },
    {
      "cell_type": "code",
      "execution_count": 7,
      "metadata": {
        "autoscroll": "auto"
      },
      "outputs": [],
      "source": "dfwd.count"
    },
    {
      "cell_type": "code",
      "execution_count": 8,
      "metadata": {
        "autoscroll": "auto"
      },
      "outputs": [],
      "source": "df.show()"
    },
    {
      "cell_type": "code",
      "execution_count": 9,
      "metadata": {
        "autoscroll": "auto"
      },
      "outputs": [],
      "source": "df.printSchema()"
    },
    {
      "cell_type": "code",
      "execution_count": 10,
      "metadata": {
        "autoscroll": "auto"
      },
      "outputs": [],
      "source": "df.columns.foreach { column \u003d\u003e\r\n  val distinctCount \u003d df.select(column).distinct().count()\r\n  println(s\"Distinct Count for $column: $distinctCount\")\r\n}"
    },
    {
      "cell_type": "code",
      "execution_count": 11,
      "metadata": {
        "autoscroll": "auto"
      },
      "outputs": [],
      "source": "println(s\"Row count with duplicate: ${df.count()}\")\nprintln(s\"Column count: ${df.columns.length}\")\nprintln(s\"Distinct N_SOUSCRIP count: ${df.select(\"N_SOUSCRIP\").distinct().count()}\")\nprintln(s\"Distinct N_POLICE count: ${df.select(\"N_POLICE\").distinct().count()}\")\nprintln(s\"Distinct N_OBJET_ASS count: ${df.select(\"N_OBJET_ASS\").distinct().count()}\")\n"
    },
    {
      "cell_type": "code",
      "execution_count": 12,
      "metadata": {
        "autoscroll": "auto"
      },
      "outputs": [],
      "source": "println(s\"Row count without duplicate: ${dfwd.count()}\")\n"
    },
    {
      "cell_type": "code",
      "execution_count": 13,
      "metadata": {
        "autoscroll": "auto"
      },
      "outputs": [],
      "source": "println(s\"Distinct N_SOUSCRIP without duplicate count: ${dfwd.select(\"N_SOUSCRIP\").distinct().count()}\")"
    },
    {
      "cell_type": "code",
      "execution_count": 14,
      "metadata": {
        "autoscroll": "auto"
      },
      "outputs": [],
      "source": "df.createOrReplaceTempView(\"FLAT\")"
    },
    {
      "cell_type": "code",
      "execution_count": 15,
      "metadata": {
        "autoscroll": "auto"
      },
      "outputs": [],
      "source": "%sql\nselect *\nfrom FLAT\nlimit 10"
    },
    {
      "cell_type": "markdown",
      "metadata": {},
      "source": "\r\n### **Interesting Labels:**\r\n- \u003cspan style\u003d\"color:blue;\"\u003e **puissance**\u003c/span\u003e  \r\n- \u003cspan style\u003d\"color:blue;\"\u003e️ **ag_objet_assuree**\u003c/span\u003e  \r\n- \u003cspan style\u003d\"color:blue;\"\u003e **valeur_venale**\u003c/span\u003e\r\n- \u003cspan style\u003d\"color:blue;\"\u003e **valeur_neuve**\u003c/span\u003e  \r\n- \u003cspan style\u003d\"color:blue;\"\u003e ️**anciennete**\u003c/span\u003e  \r\n- \u003cspan style\u003d\"color:blue;\"\u003e **classe**\u003c/span\u003e\r\n- \u003cspan style\u003d\"color:blue;\"\u003e **age_client**\u003c/span\u003e\r\n- \u003cspan style\u003d\"color:blue;\"\u003e **Type_renouvellement_police**\u003c/span\u003e\r\n- \u003cspan style\u003d\"color:blue;\"\u003e **IsToutRisque**\u003c/span\u003e"
    },
    {
      "cell_type": "code",
      "execution_count": 17,
      "metadata": {
        "autoscroll": "auto"
      },
      "outputs": [],
      "source": "//How many Duplicate we have\n"
    },
    {
      "cell_type": "code",
      "execution_count": 18,
      "metadata": {
        "autoscroll": "auto"
      },
      "outputs": [],
      "source": "val duplicateRows \u003d df.groupBy(df.columns.map(col): _*)\n                        .count()\n                        .filter(\"count \u003e 1\") "
    },
    {
      "cell_type": "code",
      "execution_count": 19,
      "metadata": {
        "autoscroll": "auto"
      },
      "outputs": [],
      "source": "duplicateRows.show(1)"
    },
    {
      "cell_type": "code",
      "execution_count": 20,
      "metadata": {
        "autoscroll": "auto"
      },
      "outputs": [],
      "source": "// Are there missing values ?"
    },
    {
      "cell_type": "code",
      "execution_count": 21,
      "metadata": {
        "autoscroll": "auto"
      },
      "outputs": [],
      "source": "df.select(df.columns.map(c \u003d\u003e sum(when(col(c).isNull, 1).otherwise(0)).alias(c)): _*).show()"
    },
    {
      "cell_type": "code",
      "execution_count": 22,
      "metadata": {
        "autoscroll": "auto"
      },
      "outputs": [],
      "source": "// Frequency Count\n// Group and aggregate"
    },
    {
      "cell_type": "code",
      "execution_count": 23,
      "metadata": {
        "autoscroll": "auto"
      },
      "outputs": [],
      "source": "df.groupBy(\"N_SOUSCRIP\").count().orderBy(desc(\"count\")).show(5, false)"
    },
    {
      "cell_type": "code",
      "execution_count": 24,
      "metadata": {
        "autoscroll": "auto"
      },
      "outputs": [],
      "source": "df.groupBy(\"IsToutRisque\").count().orderBy(desc(\"count\")).show()"
    },
    {
      "cell_type": "code",
      "execution_count": 25,
      "metadata": {
        "autoscroll": "auto"
      },
      "outputs": [],
      "source": "df.groupBy(\"classe\").count().orderBy(desc(\"count\")).show()"
    },
    {
      "cell_type": "code",
      "execution_count": 26,
      "metadata": {
        "autoscroll": "auto"
      },
      "outputs": [],
      "source": "df.groupBy(\"Type_renouvellement_police\").count().orderBy(desc(\"count\")).show(4)"
    },
    {
      "cell_type": "code",
      "execution_count": 27,
      "metadata": {
        "autoscroll": "auto"
      },
      "outputs": [],
      "source": "df.createOrReplaceTempView(\"FLAT\")"
    },
    {
      "cell_type": "code",
      "execution_count": 28,
      "metadata": {
        "autoscroll": "auto"
      },
      "outputs": [],
      "source": "%sql\r\nSELECT \r\n    N_SOUSCRIP, \r\n    COUNT(*) AS count,\r\n    (COUNT(*) * 100.0 / (SELECT COUNT(*) FROM FLAT)) AS percentage\r\nFROM FLAT\r\nGROUP BY N_SOUSCRIP\r\nORDER BY count DESC\r\nLIMIT 10;"
    },
    {
      "cell_type": "code",
      "execution_count": 29,
      "metadata": {
        "autoscroll": "auto"
      },
      "outputs": [],
      "source": "%sql\nSELECT *\nFROM FLAT\nWHERE N_SOUSCRIP \u003d 642214\nLIMIT 20\n"
    },
    {
      "cell_type": "code",
      "execution_count": 30,
      "metadata": {
        "autoscroll": "auto"
      },
      "outputs": [],
      "source": "// many duplicate \n"
    },
    {
      "cell_type": "code",
      "execution_count": 31,
      "metadata": {
        "autoscroll": "auto"
      },
      "outputs": [],
      "source": "// Test withot Duplicte"
    },
    {
      "cell_type": "code",
      "execution_count": 32,
      "metadata": {
        "autoscroll": "auto"
      },
      "outputs": [],
      "source": "dfwd.createOrReplaceTempView(\"FLATWD\")"
    },
    {
      "cell_type": "code",
      "execution_count": 33,
      "metadata": {
        "autoscroll": "auto"
      },
      "outputs": [],
      "source": "%sql\r\nSELECT \r\n    N_SOUSCRIP, \r\n    COUNT(*) AS count,\r\n    (COUNT(*) * 100.0 / (SELECT COUNT(*) FROM FLATWD)) AS percentage\r\nFROM FLATWD\r\nGROUP BY N_SOUSCRIP\r\nORDER BY count DESC\r\nLIMIT 10;"
    },
    {
      "cell_type": "code",
      "execution_count": 34,
      "metadata": {
        "autoscroll": "auto"
      },
      "outputs": [],
      "source": "%sql\nSELECT *\nFROM FLATWD\nWHERE year \u003d 2021\n    AND N_SOUSCRIP \u003d 642214\n    AND N_POLICE \u003d 1.01286336E8\n    AND N_OBJET_ASS \u003d \"MOTOY01LG025\"\nORDER BY N_OBJET_ASS DESC\nLIMIT 20"
    },
    {
      "cell_type": "code",
      "execution_count": 35,
      "metadata": {
        "autoscroll": "auto"
      },
      "outputs": [],
      "source": "// Here after i delete all duplicate \n// why i find client with same \"N_SOUSCRIP\" and \"N_OBJET_ASS\"\n"
    },
    {
      "cell_type": "code",
      "execution_count": 36,
      "metadata": {
        "autoscroll": "auto"
      },
      "outputs": [],
      "source": "// e.g,. \n// N_SOUSCRIP\u003d642214 and N_OBJET_ASS\u003d1.01286336E8 and IsTourisque\u003d\"yes\"\n// N_SOUSCRIP\u003d642214 and N_OBJET_ASS\u003d1.01286336E8 and IsTourisque\u003d\"No\"\n// HoooooW ?!!!"
    },
    {
      "cell_type": "code",
      "execution_count": 37,
      "metadata": {
        "autoscroll": "auto"
      },
      "outputs": [],
      "source": "/*I don\u0027t think you deleted the duplicates if I\u0027m not wrong,you should do a val rowcount\u003ddfWithotDuplicate.count()\nand see if the row count is the same,besides this,seems like they merged the files with little to no logic and we have to clean up,maybe one the full dups are dropped we\u0027ll be left with one year per entry,sinon it\u0027s best to get rid of the duplicates anyways and then check the logic and consistency etc(I wasn\u0027table to drop dups :\u0027) )*/\n//I saw that there are two yes,but not where the dups were deleted\n//ok"
    },
    {
      "cell_type": "code",
      "execution_count": 38,
      "metadata": {
        "autoscroll": "auto"
      },
      "outputs": [],
      "source": "// no i have been difine two dataframes \n// we will descus it later in the meet "
    },
    {
      "cell_type": "code",
      "execution_count": 39,
      "metadata": {
        "autoscroll": "auto"
      },
      "outputs": [],
      "source": "%sql\nSELECT *\nFROM FLATWD\nWHERE N_SOUSCRIP \u003d 657019\n      AND marque \u003d \"ISUZU\"\n      AND N_OBJET_ASS \u003d \"1212TU68\"\n      AND year \u003d 2018\nORDER BY year asc\nLIMIT 20"
    },
    {
      "cell_type": "code",
      "execution_count": 40,
      "metadata": {
        "autoscroll": "auto"
      },
      "outputs": [],
      "source": "\n/* \nFirst remark:\nWe have clients with the same N_SOUSCRIP, N_OBJET_ASS, and year but different IsToutRisque values.\nSecond remark:\nIn the IsToutRisque label, we have 3,885,221 \"No\" and 220,156 \"Yes.\"\nsolution:\nTo address this imbalance, we need to create another DataFrame that retains clients with the same N_SOUSCRIP, N_OBJET_ASS, and year, but keeps only those where IsToutRisque is set to \"Yes.\" This will help balance our data.\n*/"
    },
    {
      "cell_type": "code",
      "execution_count": 41,
      "metadata": {
        "autoscroll": "auto"
      },
      "outputs": [],
      "source": "%sql\r\nSELECT \r\n    IsToutRisque, \r\n    COUNT(*) AS count,\r\n    (COUNT(*) * 100.0 / (SELECT COUNT(*) FROM FLATWD)) AS percentage\r\nFROM FLATWD\r\nGROUP BY IsToutRisque\r\n\r\nORDER BY count DESC;"
    },
    {
      "cell_type": "markdown",
      "metadata": {},
      "source": " \r\n\u003cspan\u003e\u003c/span\u003e\r\n\u003cspan style\u003d\"color:red; font-size:30px; font-weight:bold;\"\u003eI always encounter the same memory issue, and I can\u0027t complete my work without fixing it !!!!!!!!\u003c/span\u003e\r\n"
    }
  ]
}
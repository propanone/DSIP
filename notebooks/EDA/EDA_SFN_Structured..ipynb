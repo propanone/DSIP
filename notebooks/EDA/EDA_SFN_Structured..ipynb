﻿{
  "metadata": {
    "name": "EDA_SFN_Structured",
    "kernelspec": {
      "language": "scala",
      "name": "spark2-scala"
    },
    "language_info": {
      "codemirror_mode": "text/x-scala",
      "file_extension": ".scala",
      "mimetype": "text/x-scala",
      "name": "scala",
      "pygments_lexer": "scala"
    }
  },
  "nbformat": 4,
  "nbformat_minor": 2,
  "cells": [
    {
      "cell_type": "code",
      "execution_count": 0,
      "metadata": {
        "autoscroll": "auto"
      },
      "outputs": [],
      "source": "%file\r\n\r\nls /user/majesteye/DS05_INSURANCE_DATASET/input"
    },
    {
      "cell_type": "code",
      "execution_count": 1,
      "metadata": {
        "autoscroll": "auto"
      },
      "outputs": [],
      "source": "%spark\nsc.hadoopConfiguration.set(\"fs.defaultFS\", \"hdfs://namenode:9000\")"
    },
    {
      "cell_type": "markdown",
      "metadata": {},
      "source": "\u003ch1 align\u003d\"center\" style\u003d\"color:blue;\"\u003eGeneral Exploration of \"client_features\" \u003c/h1\u003e"
    },
    {
      "cell_type": "code",
      "execution_count": 3,
      "metadata": {
        "autoscroll": "auto"
      },
      "outputs": [],
      "source": "%spark\n// Lecture client_features\nval cfdf \u003d spark.read\n    .format(\"csv\") // Pour TSV, utilisez toujours le format \"csv\"\n    .option(\"header\", \"true\")\n    .option(\"inferSchema\", \"true\")\n    .option(\"delimiter\", \"\\t\") // Délimiteur tab pour .tsv\n    .load(\"/user/majesteye/DS05_INSURANCE_DATASET/input/client_features.tsv\")\n"
    },
    {
      "cell_type": "code",
      "execution_count": 4,
      "metadata": {
        "autoscroll": "auto"
      },
      "outputs": [],
      "source": "%spark\ncfdf.show()"
    },
    {
      "cell_type": "code",
      "execution_count": 5,
      "metadata": {
        "autoscroll": "auto"
      },
      "outputs": [],
      "source": "%spark\ncfdf.printSchema()"
    },
    {
      "cell_type": "code",
      "execution_count": 6,
      "metadata": {
        "autoscroll": "auto"
      },
      "outputs": [],
      "source": "%spark\ncfdf.show(100)"
    },
    {
      "cell_type": "code",
      "execution_count": 7,
      "metadata": {
        "autoscroll": "auto"
      },
      "outputs": [],
      "source": "cfdf.count()"
    },
    {
      "cell_type": "code",
      "execution_count": 8,
      "metadata": {
        "autoscroll": "auto"
      },
      "outputs": [],
      "source": "// Check the distinct values in DF"
    },
    {
      "cell_type": "code",
      "execution_count": 9,
      "metadata": {
        "autoscroll": "auto"
      },
      "outputs": [],
      "source": "cfdf.columns.foreach { column \u003d\u003e\r\n  val distinctCount \u003d cfdf.select(column).distinct().count()\r\n  println(s\"Distinct Count for $column: $distinctCount\")\r\n}"
    },
    {
      "cell_type": "code",
      "execution_count": 10,
      "metadata": {
        "autoscroll": "auto"
      },
      "outputs": [],
      "source": "println(s\"Row count: ${cfdf.count()}\")\nprintln(s\"Column count: ${cfdf.columns.length}\")\nprintln(s\"Distinct N_SOUSCRIP count: ${cfdf.select(\"N_SOUSCRIP\").distinct().count()}\")"
    },
    {
      "cell_type": "markdown",
      "metadata": {},
      "source": "\r\n\r\n### **Primary Keys:**\r\n- \u003cspan style\u003d\"color:blue;\"\u003e️ **N_SOUSCRIP**\u003c/span\u003e\r\n- \u003cspan style\u003d\"color:blue;\"\u003e️ **year**\u003c/span\u003e\r\n\r\n### **Interesting Labels:**\r\n- \u003cspan style\u003d\"color:blue;\"\u003e **anciennete**\u003c/span\u003e  \r\n- \u003cspan style\u003d\"color:blue;\"\u003e️ **classe**\u003c/span\u003e  \r\n- \u003cspan style\u003d\"color:blue;\"\u003e **Type_renouvellement_police**\u003c/span\u003e\r\n"
    },
    {
      "cell_type": "code",
      "execution_count": 12,
      "metadata": {
        "autoscroll": "auto"
      },
      "outputs": [],
      "source": "//How many Duplicate we have "
    },
    {
      "cell_type": "code",
      "execution_count": 13,
      "metadata": {
        "autoscroll": "auto"
      },
      "outputs": [],
      "source": "val duplicateRows \u003d cfdf.groupBy(cfdf.columns.map(col): _*)\n                        .count()\n                        .filter(\"count \u003e 1\") "
    },
    {
      "cell_type": "code",
      "execution_count": 14,
      "metadata": {
        "autoscroll": "auto"
      },
      "outputs": [],
      "source": "duplicateRows.show()"
    },
    {
      "cell_type": "code",
      "execution_count": 15,
      "metadata": {
        "autoscroll": "auto"
      },
      "outputs": [],
      "source": "// Are there missing values ?"
    },
    {
      "cell_type": "code",
      "execution_count": 16,
      "metadata": {
        "autoscroll": "auto"
      },
      "outputs": [],
      "source": "cfdf.select(cfdf.columns.map(c \u003d\u003e sum(when(col(c).isNull, 1).otherwise(0)).alias(c)): _*).show()"
    },
    {
      "cell_type": "code",
      "execution_count": 17,
      "metadata": {
        "autoscroll": "auto"
      },
      "outputs": [],
      "source": "// Frequency Count\n// Group and aggregate"
    },
    {
      "cell_type": "code",
      "execution_count": 18,
      "metadata": {
        "autoscroll": "auto"
      },
      "outputs": [],
      "source": "cfdf.groupBy(\"anciennete\").count().orderBy(desc(\"count\")).show(99)"
    },
    {
      "cell_type": "code",
      "execution_count": 19,
      "metadata": {
        "autoscroll": "auto"
      },
      "outputs": [],
      "source": "cfdf.groupBy(\"classe\").count().orderBy(desc(\"count\")).show(13)"
    },
    {
      "cell_type": "code",
      "execution_count": 20,
      "metadata": {
        "autoscroll": "auto"
      },
      "outputs": [],
      "source": "cfdf.groupBy(\"Type_renouvellement_police\").count().orderBy(desc(\"count\")).show(4)"
    },
    {
      "cell_type": "code",
      "execution_count": 21,
      "metadata": {
        "autoscroll": "auto"
      },
      "outputs": [],
      "source": "// Explore the primary key"
    },
    {
      "cell_type": "code",
      "execution_count": 22,
      "metadata": {
        "autoscroll": "auto"
      },
      "outputs": [],
      "source": "cfdf.groupBy(\"N_SOUSCRIP\").count().orderBy(desc(\"count\")).show(10)"
    },
    {
      "cell_type": "code",
      "execution_count": 23,
      "metadata": {
        "autoscroll": "auto"
      },
      "outputs": [],
      "source": "cfdf.filter($\"N_SOUSCRIP\" \u003d\u003d\u003d \"394490\"  \u0026\u0026 $\"year\" \u003d\u003d\u003d \"2022\").orderBy(desc(\"year\")).show(100)"
    },
    {
      "cell_type": "code",
      "execution_count": 24,
      "metadata": {
        "autoscroll": "auto"
      },
      "outputs": [],
      "source": "cfdf.filter($\"N_SOUSCRIP\" \u003d\u003d\u003d \"394490\"  \u0026\u0026 $\"year\" \u003d\u003d\u003d \"2021\").orderBy(desc(\"year\")).show(100)"
    },
    {
      "cell_type": "code",
      "execution_count": 25,
      "metadata": {
        "autoscroll": "auto"
      },
      "outputs": [],
      "source": "cfdf.filter($\"N_SOUSCRIP\" \u003d\u003d\u003d \"394490\"  \u0026\u0026 $\"year\" \u003d\u003d\u003d \"2020\").orderBy(desc(\"year\")).show(100)"
    },
    {
      "cell_type": "markdown",
      "metadata": {},
      "source": "\r\n\r\n\u003e \u003cspan style\u003d\"color:red;\"\u003e// As we see, our Interesting Labels don\u0027t change  \r\n\u003e // Donc, we can keep just one client per year \u003c/span\u003e\r\n "
    },
    {
      "cell_type": "code",
      "execution_count": 27,
      "metadata": {
        "autoscroll": "auto"
      },
      "outputs": [],
      "source": "cfdf.groupBy(\"year\").count().orderBy(desc(\"count\")).show(10)"
    },
    {
      "cell_type": "code",
      "execution_count": 28,
      "metadata": {
        "autoscroll": "auto"
      },
      "outputs": [],
      "source": "cfdf.filter($\"year\" \u003d\u003d\u003d \"2021\").orderBy(desc(\"classe\")).show(100)"
    },
    {
      "cell_type": "code",
      "execution_count": 29,
      "metadata": {
        "autoscroll": "auto"
      },
      "outputs": [],
      "source": "// Compute summary statistics {Mean (Average), stddev, variance, min, max} \n// of Interesting Labels"
    },
    {
      "cell_type": "code",
      "execution_count": 30,
      "metadata": {
        "autoscroll": "auto"
      },
      "outputs": [],
      "source": "val summary \u003d cfdf.describe()\r\nval structuredSummary \u003d summary\r\n  .select(\"summary\",\"anciennete\", \"classe\")\r\n  .withColumnRenamed(\"summary\", \"Statistics\")\r\n  .orderBy(\"Statistics\") \r\nstructuredSummary.show(truncate \u003d false)"
    },
    {
      "cell_type": "code",
      "execution_count": 31,
      "metadata": {
        "autoscroll": "auto"
      },
      "outputs": [],
      "source": "import org.apache.spark.sql.functions._\r\n\r\nval stats \u003d cfdf.select(\r\n  variance(\"classe\").alias(\"variance_classe\"),\r\n  variance(\"anciennete\").alias(\"variance_anciennete\")\r\n)\r\n\r\nstats.show()"
    },
    {
      "cell_type": "code",
      "execution_count": 32,
      "metadata": {
        "autoscroll": "auto"
      },
      "outputs": [],
      "source": "//  The distribution of Interesting labels:\n//  Is there any bias in the dataset with respect to classe (classe) and seniority (anciennete)\n//  and type of policy renewal  (Type_renouvellement_police)??"
    },
    {
      "cell_type": "code",
      "execution_count": 33,
      "metadata": {
        "autoscroll": "auto"
      },
      "outputs": [],
      "source": "// classe (classe)"
    },
    {
      "cell_type": "code",
      "execution_count": 34,
      "metadata": {
        "autoscroll": "auto"
      },
      "outputs": [],
      "source": "\r\nval genderDistribution \u003d cfdf.groupBy(\"classe\")\r\n  .agg(count(\"*\").alias(\"count\"))\r\n  .orderBy(desc(\"count\"))\r\ngenderDistribution.show()\r\n\r\n\r\n"
    },
    {
      "cell_type": "code",
      "execution_count": 35,
      "metadata": {
        "autoscroll": "auto"
      },
      "outputs": [],
      "source": "\r\nval genderPercentage \u003d cfdf.groupBy(\"classe\")\r\n  .agg(\r\n    (count(\"*\") / cfdf.count() * 100).alias(\"percentage\")\r\n  )\r\n  .orderBy(desc(\"percentage\"))\r\ngenderPercentage.show()"
    },
    {
      "cell_type": "code",
      "execution_count": 36,
      "metadata": {
        "autoscroll": "auto"
      },
      "outputs": [],
      "source": "cfdf.createOrReplaceTempView(\"dataset\")"
    },
    {
      "cell_type": "code",
      "execution_count": 37,
      "metadata": {
        "autoscroll": "auto"
      },
      "outputs": [],
      "source": "%sql\r\nSELECT \r\n    classe, \r\n    COUNT(*) AS count,\r\n    (COUNT(*) * 100.0 / (SELECT COUNT(*) FROM dataset)) AS percentage\r\nFROM dataset\r\nGROUP BY classe\r\n\r\nORDER BY count DESC;"
    },
    {
      "cell_type": "code",
      "execution_count": 38,
      "metadata": {
        "autoscroll": "auto"
      },
      "outputs": [],
      "source": "// type of policy renewal  (Type_renouvellement_police)"
    },
    {
      "cell_type": "code",
      "execution_count": 39,
      "metadata": {
        "autoscroll": "auto"
      },
      "outputs": [],
      "source": "\r\n\r\nval genderDistribution \u003d cfdf.groupBy(\"Type_renouvellement_police\")\r\n  .agg(count(\"*\").alias(\"count\"))\r\n  .orderBy(desc(\"count\"))\r\ngenderDistribution.show()\r\n\r\n"
    },
    {
      "cell_type": "code",
      "execution_count": 40,
      "metadata": {
        "autoscroll": "auto"
      },
      "outputs": [],
      "source": "\r\nval genderPercentage \u003d cfdf.groupBy(\"Type_renouvellement_police\")\r\n  .agg(\r\n    (count(\"*\") / cfdf.count() * 100).alias(\"percentage\")\r\n  )\r\n  .orderBy(desc(\"percentage\"))\r\ngenderPercentage.show()"
    },
    {
      "cell_type": "code",
      "execution_count": 41,
      "metadata": {
        "autoscroll": "auto"
      },
      "outputs": [],
      "source": "%sql\r\nSELECT \r\n    Type_renouvellement_police, \r\n    COUNT(*) AS count,\r\n    (COUNT(*) * 100.0 / (SELECT COUNT(*) FROM dataset)) AS percentage\r\nFROM dataset\r\nGROUP BY Type_renouvellement_police\r\n\r\nORDER BY count DESC;"
    },
    {
      "cell_type": "code",
      "execution_count": 42,
      "metadata": {
        "autoscroll": "auto"
      },
      "outputs": [],
      "source": "// Relation between anciennete and classe"
    },
    {
      "cell_type": "code",
      "execution_count": 43,
      "metadata": {
        "autoscroll": "auto"
      },
      "outputs": [],
      "source": "%sql\nSELECT \n    anciennete, \n    classe, \n    COUNT(*) AS count,\n    (COUNT(*) * 100.0 / (SELECT COUNT(*) FROM dataset)) AS percentage\nFROM dataset\nGROUP BY anciennete, classe\nORDER BY count DESC;"
    },
    {
      "cell_type": "code",
      "execution_count": 44,
      "metadata": {
        "autoscroll": "auto"
      },
      "outputs": [],
      "source": "// Relation between Type_renouvellement_police and classe"
    },
    {
      "cell_type": "code",
      "execution_count": 45,
      "metadata": {
        "autoscroll": "auto"
      },
      "outputs": [],
      "source": "%sql\nSELECT \n    Type_renouvellement_police, \n    classe, \n    COUNT(*) AS count,\n    (COUNT(*) * 100.0 / (SELECT COUNT(*) FROM dataset)) AS percentage\nFROM dataset\nGROUP BY Type_renouvellement_police, classe\nORDER BY count DESC;"
    },
    {
      "cell_type": "code",
      "execution_count": 46,
      "metadata": {
        "autoscroll": "auto"
      },
      "outputs": [],
      "source": "// // Relation between Type_renouvellement_police and anciennete"
    },
    {
      "cell_type": "code",
      "execution_count": 47,
      "metadata": {
        "autoscroll": "auto"
      },
      "outputs": [],
      "source": "%sql\nSELECT \n    Type_renouvellement_police, \n    anciennete, \n    COUNT(*) AS count,\n    (COUNT(*) * 100.0 / (SELECT COUNT(*) FROM dataset)) AS percentage\nFROM dataset\nGROUP BY Type_renouvellement_police, anciennete\nORDER BY count DESC;"
    },
    {
      "cell_type": "markdown",
      "metadata": {},
      "source": "\u003ch1 align\u003d\"center\" style\u003d\"color:orange;\"\u003eGeneral Exploration of \"clients_polices\" \u003c/h1\u003e"
    },
    {
      "cell_type": "code",
      "execution_count": 49,
      "metadata": {
        "autoscroll": "auto"
      },
      "outputs": [],
      "source": "%spark\nsc.hadoopConfiguration.set(\"fs.defaultFS\", \"hdfs://namenode:9000\")"
    },
    {
      "cell_type": "code",
      "execution_count": 50,
      "metadata": {
        "autoscroll": "auto"
      },
      "outputs": [],
      "source": "%spark\n// Lecture clients_polices\nval cpdf \u003d spark.read\n    .format(\"csv\") // Pour TSV, utilisez toujours le format \"csv\"\n    .option(\"header\", \"true\")\n    .option(\"inferSchema\", \"true\")\n    .option(\"delimiter\", \"\\t\") // Délimiteur tab pour .tsv\n    .load(\"/user/majesteye/DS05_INSURANCE_DATASET/input/clients_polices.tsv\")"
    },
    {
      "cell_type": "code",
      "execution_count": 51,
      "metadata": {
        "autoscroll": "auto"
      },
      "outputs": [],
      "source": "cpdf.show()"
    },
    {
      "cell_type": "code",
      "execution_count": 52,
      "metadata": {
        "autoscroll": "auto"
      },
      "outputs": [],
      "source": "cpdf.printSchema()"
    },
    {
      "cell_type": "code",
      "execution_count": 53,
      "metadata": {
        "autoscroll": "auto"
      },
      "outputs": [],
      "source": "cpdf.show(100)"
    },
    {
      "cell_type": "code",
      "execution_count": 54,
      "metadata": {
        "autoscroll": "auto"
      },
      "outputs": [],
      "source": "cpdf.count()"
    },
    {
      "cell_type": "code",
      "execution_count": 55,
      "metadata": {
        "autoscroll": "auto"
      },
      "outputs": [],
      "source": "// Check the distinct values in DF"
    },
    {
      "cell_type": "code",
      "execution_count": 56,
      "metadata": {
        "autoscroll": "auto"
      },
      "outputs": [],
      "source": "cpdf.columns.foreach { column \u003d\u003e\r\n  val distinctCount \u003d cpdf.select(column).distinct().count()\r\n  println(s\"Distinct Count for $column: $distinctCount\")\r\n}"
    },
    {
      "cell_type": "markdown",
      "metadata": {},
      "source": "\r\n\r\n\u003e \u003cspan style\u003d\"color:red;\"\u003e// just a remark here:\r\nnombre of N_SOUSCRIP in cfdf \u003dnombre of N_SOUSCRIP in cpdf \u003c/span\u003e\r\n"
    },
    {
      "cell_type": "code",
      "execution_count": 58,
      "metadata": {
        "autoscroll": "auto"
      },
      "outputs": [],
      "source": "println(s\"Row count: ${cpdf.count()}\")\nprintln(s\"Column count: ${cpdf.columns.length}\")\nprintln(s\"Distinct N_SOUSCRIP count: ${cpdf.select(\"N_SOUSCRIP\").distinct().count()}\")"
    },
    {
      "cell_type": "code",
      "execution_count": 59,
      "metadata": {
        "autoscroll": "auto"
      },
      "outputs": [],
      "source": "println(s\"Row count: ${cpdf.count()}\")\nprintln(s\"Column count: ${cpdf.columns.length}\")\nprintln(s\"Distinct N_POLICE count: ${cpdf.select(\"N_POLICE\").distinct().count()}\")"
    },
    {
      "cell_type": "markdown",
      "metadata": {},
      "source": "\r\n\r\n### **Primary Keys:**\r\n- \u003cspan style\u003d\"color:blue;\"\u003e️ **N_SOUSCRIP**\u003c/span\u003e\r\n- \u003cspan style\u003d\"color:blue;\"\u003e️ **year**\u003c/span\u003e\r\n- \u003cspan style\u003d\"color:blue;\"\u003e️ **N_POLICE**\u003c/span\u003e\r\n\r\n### **Interesting Labels:**\r\n- \u003cspan style\u003d\"color:blue;\"\u003e **IsToutRisque**\u003c/span\u003e  \r\n\r\n"
    },
    {
      "cell_type": "code",
      "execution_count": 61,
      "metadata": {
        "autoscroll": "auto"
      },
      "outputs": [],
      "source": "//How many Duplicate we have"
    },
    {
      "cell_type": "code",
      "execution_count": 62,
      "metadata": {
        "autoscroll": "auto"
      },
      "outputs": [],
      "source": "val duplicateRows \u003d cpdf.groupBy(cpdf.columns.map(col): _*)\n                        .count()\n                        .filter(\"count \u003e 1\")"
    },
    {
      "cell_type": "code",
      "execution_count": 63,
      "metadata": {
        "autoscroll": "auto"
      },
      "outputs": [],
      "source": "duplicateRows.show()"
    },
    {
      "cell_type": "code",
      "execution_count": 64,
      "metadata": {
        "autoscroll": "auto"
      },
      "outputs": [],
      "source": "// Are there missing values ?"
    },
    {
      "cell_type": "code",
      "execution_count": 65,
      "metadata": {
        "autoscroll": "auto"
      },
      "outputs": [],
      "source": "cpdf.select(cpdf.columns.map(c \u003d\u003e sum(when(col(c).isNull, 1).otherwise(0)).alias(c)): _*).show()"
    },
    {
      "cell_type": "code",
      "execution_count": 66,
      "metadata": {
        "autoscroll": "auto"
      },
      "outputs": [],
      "source": "// Frequency Count\n// Group and aggregate"
    },
    {
      "cell_type": "code",
      "execution_count": 67,
      "metadata": {
        "autoscroll": "auto"
      },
      "outputs": [],
      "source": "cpdf.groupBy(\"IsToutRisque\").count().orderBy(desc(\"count\")).show()"
    },
    {
      "cell_type": "code",
      "execution_count": 68,
      "metadata": {
        "autoscroll": "auto"
      },
      "outputs": [],
      "source": "// Explore the primary key"
    },
    {
      "cell_type": "code",
      "execution_count": 69,
      "metadata": {
        "autoscroll": "auto"
      },
      "outputs": [],
      "source": "cpdf.groupBy(\"N_SOUSCRIP\").count().orderBy(desc(\"count\")).show(10)"
    },
    {
      "cell_type": "code",
      "execution_count": 70,
      "metadata": {
        "autoscroll": "auto"
      },
      "outputs": [],
      "source": "cpdf.filter($\"N_SOUSCRIP\" \u003d\u003d\u003d \"642214\"  \u0026\u0026 $\"year\" \u003d\u003d\u003d \"2022\").orderBy(desc(\"year\")).show(100)"
    },
    {
      "cell_type": "code",
      "execution_count": 71,
      "metadata": {
        "autoscroll": "auto"
      },
      "outputs": [],
      "source": "cpdf.groupBy(\"N_OBJET_ASS\").count().orderBy(desc(\"count\")).show(10)"
    },
    {
      "cell_type": "code",
      "execution_count": 72,
      "metadata": {
        "autoscroll": "auto"
      },
      "outputs": [],
      "source": "cpdf.groupBy(\"N_POLICE\").count().orderBy(desc(\"count\")).show(10)"
    },
    {
      "cell_type": "code",
      "execution_count": 73,
      "metadata": {
        "autoscroll": "auto"
      },
      "outputs": [],
      "source": "\n\ncpdf.filter($\"N_SOUSCRIP\" \u003d\u003d\u003d \"413736\" \u0026\u0026 $\"N_POLICE\" \u003d\u003d\u003d \"1.01046416E8\"  \u0026\u0026 $\"year\" \u003d\u003d\u003d \"2022\" \u0026\u0026 $\"N_OBJET_ASS\" \u003d\u003d\u003d \"2140TU207\").orderBy(desc(\"year\")).show(100)"
    },
    {
      "cell_type": "markdown",
      "metadata": {},
      "source": "\r\n\r\n\u003e \u003cspan style\u003d\"color:red;\"\u003e// As we see, our Interesting Labels are change \r\n\u003e // Donc, We need to keep one client per year while adding a rule that avoids bias.  \u003c/span\u003e"
    },
    {
      "cell_type": "code",
      "execution_count": 75,
      "metadata": {
        "autoscroll": "auto"
      },
      "outputs": [],
      "source": "//  The distribution of Interesting labels:\n//  Is there any bias in the dataset with respect to IsToutRisque ??"
    },
    {
      "cell_type": "code",
      "execution_count": 76,
      "metadata": {
        "autoscroll": "auto"
      },
      "outputs": [],
      "source": "\r\nval genderDistribution \u003d cpdf.groupBy(\"IsToutRisque\")\r\n  .agg(count(\"*\").alias(\"count\"))\r\n  .orderBy(desc(\"count\"))\r\ngenderDistribution.show()\r\n\r\n"
    },
    {
      "cell_type": "code",
      "execution_count": 77,
      "metadata": {
        "autoscroll": "auto"
      },
      "outputs": [],
      "source": "\nval genderPercentage \u003d cpdf.groupBy(\"IsToutRisque\")\n  .agg(\n    (count(\"*\") / cpdf.count() * 100).alias(\"percentage\")\n  )\n genderPercentage.show()"
    },
    {
      "cell_type": "code",
      "execution_count": 78,
      "metadata": {
        "autoscroll": "auto"
      },
      "outputs": [],
      "source": "cpdf.createOrReplaceTempView(\"dataset1\")"
    },
    {
      "cell_type": "code",
      "execution_count": 79,
      "metadata": {
        "autoscroll": "auto"
      },
      "outputs": [],
      "source": "%sql\r\nSELECT \r\n    IsToutRisque, \r\n    COUNT(*) AS count,\r\n    (COUNT(*) * 100.0 / (SELECT COUNT(*) FROM dataset)) AS percentage\r\nFROM dataset1\r\nGROUP BY IsToutRisque\r\n\r\nORDER BY count DESC;"
    },
    {
      "cell_type": "code",
      "execution_count": 80,
      "metadata": {
        "autoscroll": "auto"
      },
      "outputs": [],
      "source": "//\n"
    },
    {
      "cell_type": "code",
      "execution_count": 81,
      "metadata": {
        "autoscroll": "auto"
      },
      "outputs": [],
      "source": "%sql\r\nSELECT \r\n    dataset1.IsToutRisque, \r\n    dataset.classe, \r\n    COUNT(*) AS count,\r\n    (COUNT(*) * 100.0 / (SELECT COUNT(*) FROM dataset1)) AS percentage\r\nFROM dataset1\r\nJOIN dataset ON dataset1.N_SOUSCRIP \u003d dataset.N_SOUSCRIP\r\nGROUP BY dataset1.IsToutRisque, dataset.classe\r\nORDER BY count DESC;\r\n"
    },
    {
      "cell_type": "code",
      "execution_count": 82,
      "metadata": {
        "autoscroll": "auto"
      },
      "outputs": [],
      "source": "%sql\nSELECT \n    dataset1.IsToutRisque, \n    dataset.Type_renouvellement_police, \n    COUNT(*) AS count,\n    (COUNT(*) * 100.0 / (SELECT COUNT(*) FROM dataset1)) AS percentage\nFROM dataset1\nJOIN dataset ON dataset1.N_SOUSCRIP \u003d dataset.N_SOUSCRIP\nGROUP BY dataset1.IsToutRisque, dataset.Type_renouvellement_police\nORDER BY count DESC;\n"
    }
  ]
}
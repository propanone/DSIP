﻿{
  "metadata": {
    "name": "00_",
    "kernelspec": {
      "language": "scala",
      "name": "spark2-scala"
    },
    "language_info": {
      "codemirror_mode": "text/x-scala",
      "file_extension": ".scala",
      "mimetype": "text/x-scala",
      "name": "scala",
      "pygments_lexer": "scala"
    }
  },
  "nbformat": 4,
  "nbformat_minor": 2,
  "cells": [
    {
      "cell_type": "markdown",
      "metadata": {},
      "source": "## `Age Objet assuré`\n| Min | Max | Level |\n|-----|-----|-------|\n| 0   | \u003c1  | 1     |\n| 1   | 4   | 2     |\n| 5   | 9   | 3     |\n| 10  | 14  | 4     |\n| 15  | 19  | 5     |\n| 20  | 50  | 6     |\n"
    },
    {
      "cell_type": "markdown",
      "metadata": {},
      "source": "## `Age du client`\n\n| Min | Max  | Level |\n|-----|------|-------|\n| 18  | 24   | 1     |\n| 25  | 29   | 2     |\n| 30  | 39   | 3     |\n| 40  | 49   | 4     |\n| 50  | 59   | 5     |\n| 60  | 69   | 6     |\n| 70  | 79   | 7     |\n| 80  | 120  | 8     |\n"
    },
    {
      "cell_type": "markdown",
      "metadata": {},
      "source": "## `Nombre de places`\n\n| Min | Max  | Level |\n|-----|------|-------|\n| 1   | 5    | 1     |\n| 6   | 9    | 2     |\n| 10  | 29   | 3     |\n| 30  | 59   | 4     |\n| 60  | 60+  | 5     |\n"
    },
    {
      "cell_type": "markdown",
      "metadata": {},
      "source": "## `Ancienneté`\n\n| Min | Max  | Level |\n|-----|------|-------|\n| 0   | 2    | 1     |\n| 3   | 6    | 2     |\n| 7   | 14   | 3     |\n| 15  | 19   | 4     |\n| 20  | 99   | 5     |\n| 100 | +100 | 6     |\n"
    },
    {
      "cell_type": "markdown",
      "metadata": {},
      "source": ""
    },
    {
      "cell_type": "markdown",
      "metadata": {},
      "source": "## `Puissance`\n\n| Min | Max  | Level |\n|-----|------|-------|\n| 0   | 3    | 1     |\n| 4   | 4    | 2     |\n| 5   | 6    | 3     |\n| 7   | 9    | 4     |\n| 10  | 14   | 5     |\n| 15  | 49   | 6     |\n| 50  | +50  | 7     |\n\n\n"
    },
    {
      "cell_type": "markdown",
      "metadata": {},
      "source": "## `Valeur vénale et valeur neuve`\n\n| Min      | Max       | Level |\n|----------|-----------|-------|\n| 0        | \u003c10000    | 1     |\n| 10000    | \u003c20000    | 2     |\n| 20000    | \u003c30000    | 3     |\n| 30000    | \u003c50000    | 4     |\n| 50000    | \u003c100000   | 5     |\n| 100000   | \u003c500000   | 6     |\n| 500000   | \u003c1000000  | 7     |\n| 1000000  | +1000000  | 8     |\n\n"
    },
    {
      "cell_type": "markdown",
      "metadata": {},
      "source": "## `Charge utile`\n\n| Min   | Max    | Level |\n|-------|--------|-------|\n| 0     | \u003c1     | 1     |\n| 1     | \u003c1.6   | 2     |\n| 1.6   | \u003c3     | 3     |\n| 3     | \u003c10    | 4     |\n| 10    | +10    | 5     |\n\n"
    },
    {
      "cell_type": "markdown",
      "metadata": {},
      "source": ""
    }
  ]
}
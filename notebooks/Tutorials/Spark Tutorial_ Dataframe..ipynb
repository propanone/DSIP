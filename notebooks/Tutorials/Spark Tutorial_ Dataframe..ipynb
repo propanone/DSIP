﻿{
  "metadata": {
    "name": "Spark Tutorial: Dataframe",
    "kernelspec": {
      "language": "scala",
      "name": "spark2-scala"
    },
    "language_info": {
      "codemirror_mode": "text/x-scala",
      "file_extension": ".scala",
      "mimetype": "text/x-scala",
      "name": "scala",
      "pygments_lexer": "scala"
    }
  },
  "nbformat": 4,
  "nbformat_minor": 2,
  "cells": [
    {
      "cell_type": "markdown",
      "metadata": {},
      "source": "### Spark DataFrame\n\nThe DataFrame API provides a sql-like interface to interact and process your (semi-)structured datasets.\n\nDataFrames are used when:\n- high level tabular operations are needed"
    },
    {
      "cell_type": "markdown",
      "metadata": {},
      "source": ""
    },
    {
      "cell_type": "markdown",
      "metadata": {},
      "source": "#### Example: Game of Thrones Transcripts Analysis\n\nIn this example, we will explore Game of Thrones transcripts.\n\n- **Input**: text file\n- **Output**: perform an EDA to answer the following questions\n    - Which character has the most dialogue in Season 4?\n    - Which episode has the most dialogue in Season 4?\n    - Which episode in Season 4 has the highest word count in dialogue?\n    - How does Season 8 (The boring one) compare to other seasons regarding:\n        - Number of characters present.\n        - **TODO**: Dialogue volume (measured by sentence count)."
    },
    {
      "cell_type": "code",
      "execution_count": 3,
      "metadata": {
        "autoscroll": "auto"
      },
      "outputs": [],
      "source": "%spark\n\nval inputFile \u003d \"file:///tmp/Game_of_Thrones_Script.csv\""
    },
    {
      "cell_type": "code",
      "execution_count": 4,
      "metadata": {
        "autoscroll": "auto"
      },
      "outputs": [],
      "source": "%spark\n\nval transcriptDF \u003d spark.read\n    .format(\"csv\")\n    .options(Map(\"header\" -\u003e \"true\", \"inferSchema\" -\u003e \"true\", \"delimiter\" -\u003e \",\"))\n    .load(inputFile)"
    },
    {
      "cell_type": "code",
      "execution_count": 5,
      "metadata": {
        "autoscroll": "auto"
      },
      "outputs": [],
      "source": "transcriptDF.printSchema() // df.dtypes"
    },
    {
      "cell_type": "code",
      "execution_count": 6,
      "metadata": {
        "autoscroll": "auto"
      },
      "outputs": [],
      "source": "%spark\n\ntranscriptDF.show(5, false)"
    },
    {
      "cell_type": "code",
      "execution_count": 7,
      "metadata": {
        "autoscroll": "auto"
      },
      "outputs": [],
      "source": "%spark\n\ntranscriptDF.createOrReplaceTempView(\"TRANSCRIPT_TBL\")"
    },
    {
      "cell_type": "markdown",
      "metadata": {},
      "source": "### Which character has the most dialogue in Season 4?"
    },
    {
      "cell_type": "markdown",
      "metadata": {},
      "source": "#### Spark (Scala API) "
    },
    {
      "cell_type": "markdown",
      "metadata": {},
      "source": "#### Spark SQL "
    },
    {
      "cell_type": "code",
      "execution_count": 11,
      "metadata": {
        "autoscroll": "auto"
      },
      "outputs": [],
      "source": "%spark\n\ntranscriptDF\n    .where(\"Season \u003d \u0027Season 4\u0027\")\n    .groupBy(\"Name\")\n    .agg(count(\"Sentence\").as(\"count\"))\n    .orderBy(desc(\"count\"))\n    .show(15, false)"
    },
    {
      "cell_type": "code",
      "execution_count": 12,
      "metadata": {
        "autoscroll": "auto"
      },
      "outputs": [],
      "source": "%sql\n\nSELECT Name, COUNT(*) AS C\nFROM TRANSCRIPT_TBL\nWHERE Season \u003d \u0027Season 4\u0027\nGROUP BY Name\nORDER BY C desc\nLIMIT 5\n"
    },
    {
      "cell_type": "markdown",
      "metadata": {},
      "source": "## The whole golden-haired squad dominated the dialogue —Tyrion alone couldn’t stop talking!\n\nA wise man once said a true history of the world is a history of great **conversations** in elegant rooms."
    },
    {
      "cell_type": "markdown",
      "metadata": {},
      "source": "### Which episode has the most dialogue in Season 4?"
    },
    {
      "cell_type": "code",
      "execution_count": 15,
      "metadata": {
        "autoscroll": "auto"
      },
      "outputs": [],
      "source": "%spark\n\ntranscriptDF.where(\"Season \u003d \u0027Season 4\u0027\")\n    .groupBy(\"Episode\")\n    .agg(count(\"*\").as(\"count\"))\n    .orderBy(desc(\"count\"))\n    .show(10, false)"
    },
    {
      "cell_type": "code",
      "execution_count": 16,
      "metadata": {
        "autoscroll": "auto"
      },
      "outputs": [],
      "source": "%sql\n\nSELECT Episode, COUNT(*) as C\nFROM TRANSCRIPT_TBL\nWHERE Season \u003d \u0027Season 4\u0027\nGROUP BY Episode\nORDER BY C DESC"
    },
    {
      "cell_type": "markdown",
      "metadata": {},
      "source": "## Episode 9: Least chatter, most drama!"
    },
    {
      "cell_type": "markdown",
      "metadata": {},
      "source": "###  Which episode in Season 4 has the highest word count in dialogue?"
    },
    {
      "cell_type": "code",
      "execution_count": 19,
      "metadata": {
        "autoscroll": "auto"
      },
      "outputs": [],
      "source": "val regex \u003d \"\"\"\\w+\"\"\".r\n\n// udf: user defined function\nval extractWordsUdf \u003d udf((sentence: String) \u003d\u003e regex.findAllIn(sentence).toList) "
    },
    {
      "cell_type": "code",
      "execution_count": 20,
      "metadata": {
        "autoscroll": "auto"
      },
      "outputs": [],
      "source": "val season4TranscriptDF \u003d transcriptDF\n    // .where(\"Season \u003d \u0027Season 4\u0027\")\n    .filter(\"Season \u003d \u0027Season 4\u0027\")\n    .select(\"Episode\", \"Sentence\")"
    },
    {
      "cell_type": "code",
      "execution_count": 21,
      "metadata": {
        "autoscroll": "auto"
      },
      "outputs": [],
      "source": "season4TranscriptDF\n    .withColumn(\"Sentence\", lower(col(\"Sentence\")))\n    .withColumn(\"Words\", extractWordsUdf(col(\"Sentence\")))\n    .show(5, false)"
    },
    {
      "cell_type": "code",
      "execution_count": 22,
      "metadata": {
        "autoscroll": "auto"
      },
      "outputs": [],
      "source": "val season4WordcountDF \u003d season4TranscriptDF\n    .withColumn(\"Sentence\", lower(col(\"Sentence\")))\n    .withColumn(\"Words\", extractWordsUdf(col(\"Sentence\")))\n    .withColumn(\"Word\", explode(col(\"Words\")))\n    .select(\"Episode\", \"Word\")"
    },
    {
      "cell_type": "code",
      "execution_count": 23,
      "metadata": {
        "autoscroll": "auto"
      },
      "outputs": [],
      "source": "season4WordcountDF.createOrReplaceTempView(\"SEASON4_TBL\")"
    },
    {
      "cell_type": "code",
      "execution_count": 24,
      "metadata": {
        "autoscroll": "auto"
      },
      "outputs": [],
      "source": "season4WordcountDF\n    .groupBy(\"Episode\")\n    .agg(\n        count(\"*\").as(\"count\")\n        )\n    .orderBy(desc(\"count\"))\n    .show(25, false)"
    },
    {
      "cell_type": "code",
      "execution_count": 25,
      "metadata": {
        "autoscroll": "auto"
      },
      "outputs": [],
      "source": "%sql\n\nSELECT Episode, count(*) c\nFROM SEASON4_TBL\nGROUP BY Episode\nORDER BY C"
    },
    {
      "cell_type": "markdown",
      "metadata": {},
      "source": "### Let\u0027s explore words distribution"
    },
    {
      "cell_type": "code",
      "execution_count": 27,
      "metadata": {
        "autoscroll": "auto"
      },
      "outputs": [],
      "source": "%sql\n\nSELECT Word, count(*) c\nFROM SEASON4_TBL\nGROUP BY Word\nORDER BY C DESC\nLIMIT 1000"
    },
    {
      "cell_type": "code",
      "execution_count": 28,
      "metadata": {
        "autoscroll": "auto"
      },
      "outputs": [],
      "source": "%sql\n\nSELECT Word, count(*) c\nFROM SEASON4_TBL\nGROUP BY Word\nORDER BY C DESC\nLIMIT 10"
    },
    {
      "cell_type": "markdown",
      "metadata": {},
      "source": "#### Number of characters present in Season 8 compared to other seasons"
    },
    {
      "cell_type": "code",
      "execution_count": 30,
      "metadata": {
        "autoscroll": "auto"
      },
      "outputs": [],
      "source": "transcriptDF.printSchema()"
    },
    {
      "cell_type": "markdown",
      "metadata": {},
      "source": "#### Number of characters present in season 8"
    },
    {
      "cell_type": "markdown",
      "metadata": {},
      "source": "#### Number of characters present in other seasons"
    },
    {
      "cell_type": "code",
      "execution_count": 33,
      "metadata": {
        "autoscroll": "auto"
      },
      "outputs": [],
      "source": "%sql\nSELECT count(Name) as num_characters\nFROM (\n    SELECT Name, COUNT(*) c\n    FROM TRANSCRIPT_TBL\n    WHERE Season \u003d \u0027Season 8\u0027\n    GROUP BY Name having c \u003e 1 -- filter characters with less than one sentence \n)\n\n\n"
    },
    {
      "cell_type": "code",
      "execution_count": 34,
      "metadata": {
        "autoscroll": "auto"
      },
      "outputs": [],
      "source": "%sql\n\nSELECT SEASON, COUNT(1) as num_characters\nFROM (\n    SELECT  Season, Name, COUNT(*) c\n    FROM TRANSCRIPT_TBL\n    WHERE Season !\u003d \u0027Season 8\u0027\n    GROUP BY Name, Season having c \u003e 1 -- filter characters with less than one sentence \n)\nGROUP BY SEASON\nORDER BY num_characters DESC"
    },
    {
      "cell_type": "markdown",
      "metadata": {},
      "source": "## Fewer faces, fewer names"
    }
  ]
}